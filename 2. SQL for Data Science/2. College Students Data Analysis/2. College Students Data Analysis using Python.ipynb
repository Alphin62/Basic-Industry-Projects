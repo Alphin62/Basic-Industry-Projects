{
 "cells": [
  {
   "cell_type": "markdown",
   "id": "1e146379",
   "metadata": {},
   "source": [
    "# Q4. Display first 1000 rows of tables (College_A_HS, College_A_SE, College_A_SJ, College_B_HS, College_B_SE, College_B_SJ) with Python."
   ]
  },
  {
   "cell_type": "code",
   "execution_count": null,
   "id": "03bfc44b",
   "metadata": {},
   "outputs": [],
   "source": [
    "import mysql.connector\n",
    "testdb= mysql.connector.connect(host=\"localhost\", user=\"root\", password=\"0602\", database= \"alumni\")\n",
    "testcursor=testdb.cursor()\n",
    "testcursor.execute(\"SELECT * FROM college_a_hs LIMIT 1000\")\n",
    "for s in testcursor:\n",
    "    print(s)\n",
    "    "
   ]
  },
  {
   "cell_type": "code",
   "execution_count": null,
   "id": "d8d5a57c",
   "metadata": {},
   "outputs": [],
   "source": [
    "import mysql.connector\n",
    "testdb= mysql.connector.connect(host=\"localhost\", user=\"root\", password=\"0602\", database= \"alumni\")\n",
    "testcursor=testdb.cursor()\n",
    "testcursor.execute(\"SELECT * FROM college_a_se LIMIT 1000\")\n",
    "for t in testcursor:\n",
    "    print(t)\n",
    "    "
   ]
  },
  {
   "cell_type": "code",
   "execution_count": null,
   "id": "79cfa562",
   "metadata": {},
   "outputs": [],
   "source": [
    "import mysql.connector\n",
    "testdb= mysql.connector.connect(host=\"localhost\", user=\"root\", password=\"0602\", database= \"alumni\")\n",
    "testcursor=testdb.cursor()\n",
    "testcursor.execute(\"SELECT * FROM college_a_sj LIMIT 1000\")\n",
    "for u in testcursor:\n",
    "    print(u)\n",
    "    "
   ]
  },
  {
   "cell_type": "code",
   "execution_count": null,
   "id": "f0bb95b8",
   "metadata": {},
   "outputs": [],
   "source": [
    "import mysql.connector\n",
    "testdb= mysql.connector.connect(host=\"localhost\", user=\"root\", password=\"0602\", database= \"alumni\")\n",
    "testcursor=testdb.cursor()\n",
    "testcursor.execute(\"SELECT * FROM college_b_hs LIMIT 1000\")\n",
    "for v in testcursor:\n",
    "    print(v)\n",
    "    "
   ]
  },
  {
   "cell_type": "code",
   "execution_count": null,
   "id": "ab61871a",
   "metadata": {},
   "outputs": [],
   "source": [
    "import mysql.connector\n",
    "testdb= mysql.connector.connect(host=\"localhost\", user=\"root\", password=\"0602\", database= \"alumni\")\n",
    "testcursor=testdb.cursor()\n",
    "testcursor.execute(\"SELECT * FROM college_b_se LIMIT 1000\")\n",
    "for w in testcursor:\n",
    "    print(w)\n",
    "    "
   ]
  },
  {
   "cell_type": "code",
   "execution_count": null,
   "id": "cd69a2e3",
   "metadata": {},
   "outputs": [],
   "source": [
    "import mysql.connector\n",
    "testdb= mysql.connector.connect(host=\"localhost\", user=\"root\", password=\"0602\", database= \"alumni\")\n",
    "testcursor=testdb.cursor()\n",
    "testcursor.execute(\"SELECT * FROM college_b_sj LIMIT 1000\")\n",
    "for x in testcursor:\n",
    "    print(x)\n",
    "    "
   ]
  },
  {
   "cell_type": "code",
   "execution_count": null,
   "id": "94af9f69",
   "metadata": {},
   "outputs": [],
   "source": []
  }
 ],
 "metadata": {
  "kernelspec": {
   "display_name": "Python 3 (ipykernel)",
   "language": "python",
   "name": "python3"
  },
  "language_info": {
   "codemirror_mode": {
    "name": "ipython",
    "version": 3
   },
   "file_extension": ".py",
   "mimetype": "text/x-python",
   "name": "python",
   "nbconvert_exporter": "python",
   "pygments_lexer": "ipython3",
   "version": "3.9.12"
  }
 },
 "nbformat": 4,
 "nbformat_minor": 5
}
