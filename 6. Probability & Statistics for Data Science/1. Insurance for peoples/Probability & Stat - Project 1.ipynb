{
 "cells": [
  {
   "cell_type": "code",
   "execution_count": 1,
   "id": "88007e0d",
   "metadata": {},
   "outputs": [],
   "source": [
    "import pandas as pd\n",
    "import numpy as np\n",
    "import scipy.stats as stats"
   ]
  },
  {
   "cell_type": "code",
   "execution_count": 2,
   "id": "7126bb22",
   "metadata": {},
   "outputs": [],
   "source": [
    "df = pd.read_csv('insurance.csv')"
   ]
  },
  {
   "cell_type": "code",
   "execution_count": 3,
   "id": "cb3acb46",
   "metadata": {},
   "outputs": [
    {
     "data": {
      "text/html": [
       "<div>\n",
       "<style scoped>\n",
       "    .dataframe tbody tr th:only-of-type {\n",
       "        vertical-align: middle;\n",
       "    }\n",
       "\n",
       "    .dataframe tbody tr th {\n",
       "        vertical-align: top;\n",
       "    }\n",
       "\n",
       "    .dataframe thead th {\n",
       "        text-align: right;\n",
       "    }\n",
       "</style>\n",
       "<table border=\"1\" class=\"dataframe\">\n",
       "  <thead>\n",
       "    <tr style=\"text-align: right;\">\n",
       "      <th></th>\n",
       "      <th>age</th>\n",
       "      <th>sex</th>\n",
       "      <th>bmi</th>\n",
       "      <th>children</th>\n",
       "      <th>smoker</th>\n",
       "      <th>region</th>\n",
       "      <th>charges</th>\n",
       "    </tr>\n",
       "  </thead>\n",
       "  <tbody>\n",
       "    <tr>\n",
       "      <th>0</th>\n",
       "      <td>19</td>\n",
       "      <td>female</td>\n",
       "      <td>27.900</td>\n",
       "      <td>0</td>\n",
       "      <td>yes</td>\n",
       "      <td>southwest</td>\n",
       "      <td>16884.92400</td>\n",
       "    </tr>\n",
       "    <tr>\n",
       "      <th>1</th>\n",
       "      <td>18</td>\n",
       "      <td>male</td>\n",
       "      <td>33.770</td>\n",
       "      <td>1</td>\n",
       "      <td>no</td>\n",
       "      <td>southeast</td>\n",
       "      <td>1725.55230</td>\n",
       "    </tr>\n",
       "    <tr>\n",
       "      <th>2</th>\n",
       "      <td>28</td>\n",
       "      <td>male</td>\n",
       "      <td>33.000</td>\n",
       "      <td>3</td>\n",
       "      <td>no</td>\n",
       "      <td>southeast</td>\n",
       "      <td>4449.46200</td>\n",
       "    </tr>\n",
       "    <tr>\n",
       "      <th>3</th>\n",
       "      <td>33</td>\n",
       "      <td>male</td>\n",
       "      <td>22.705</td>\n",
       "      <td>0</td>\n",
       "      <td>no</td>\n",
       "      <td>northwest</td>\n",
       "      <td>21984.47061</td>\n",
       "    </tr>\n",
       "    <tr>\n",
       "      <th>4</th>\n",
       "      <td>32</td>\n",
       "      <td>male</td>\n",
       "      <td>28.880</td>\n",
       "      <td>0</td>\n",
       "      <td>no</td>\n",
       "      <td>northwest</td>\n",
       "      <td>3866.85520</td>\n",
       "    </tr>\n",
       "  </tbody>\n",
       "</table>\n",
       "</div>"
      ],
      "text/plain": [
       "   age     sex     bmi  children smoker     region      charges\n",
       "0   19  female  27.900         0    yes  southwest  16884.92400\n",
       "1   18    male  33.770         1     no  southeast   1725.55230\n",
       "2   28    male  33.000         3     no  southeast   4449.46200\n",
       "3   33    male  22.705         0     no  northwest  21984.47061\n",
       "4   32    male  28.880         0     no  northwest   3866.85520"
      ]
     },
     "execution_count": 3,
     "metadata": {},
     "output_type": "execute_result"
    }
   ],
   "source": [
    "df.head()"
   ]
  },
  {
   "cell_type": "code",
   "execution_count": 4,
   "id": "05e03fc0",
   "metadata": {},
   "outputs": [
    {
     "data": {
      "text/plain": [
       "(1338, 7)"
      ]
     },
     "execution_count": 4,
     "metadata": {},
     "output_type": "execute_result"
    }
   ],
   "source": [
    "df.shape"
   ]
  },
  {
   "cell_type": "markdown",
   "id": "a40480f4",
   "metadata": {},
   "source": [
    "## question 1"
   ]
  },
  {
   "cell_type": "markdown",
   "id": "b215c269",
   "metadata": {},
   "source": [
    "The data is all about predicting the insurance charges for the person with respect to bmi and the person is smoker or not.The dataset is based on the supervised learning because the dataset is labeled and the dataset is having the target variable"
   ]
  },
  {
   "cell_type": "markdown",
   "id": "3229555b",
   "metadata": {},
   "source": [
    "## question 3"
   ]
  },
  {
   "cell_type": "code",
   "execution_count": 5,
   "id": "e01f56d6",
   "metadata": {},
   "outputs": [
    {
     "data": {
      "text/plain": [
       "age         0\n",
       "sex         0\n",
       "bmi         0\n",
       "children    0\n",
       "smoker      0\n",
       "region      0\n",
       "charges     0\n",
       "dtype: int64"
      ]
     },
     "execution_count": 5,
     "metadata": {},
     "output_type": "execute_result"
    }
   ],
   "source": [
    "df.isnull().sum()"
   ]
  },
  {
   "cell_type": "code",
   "execution_count": 6,
   "id": "961bfdab",
   "metadata": {},
   "outputs": [],
   "source": [
    "from sklearn.preprocessing import LabelEncoder\n",
    "model=LabelEncoder()\n",
    "df['sex']=model.fit_transform(df['sex'])\n",
    "df['region']=model.fit_transform(df['sex'])\n",
    "df['smoker']=model.fit_transform(df['smoker'])"
   ]
  },
  {
   "cell_type": "code",
   "execution_count": 7,
   "id": "32575632",
   "metadata": {},
   "outputs": [
    {
     "data": {
      "text/html": [
       "<div>\n",
       "<style scoped>\n",
       "    .dataframe tbody tr th:only-of-type {\n",
       "        vertical-align: middle;\n",
       "    }\n",
       "\n",
       "    .dataframe tbody tr th {\n",
       "        vertical-align: top;\n",
       "    }\n",
       "\n",
       "    .dataframe thead th {\n",
       "        text-align: right;\n",
       "    }\n",
       "</style>\n",
       "<table border=\"1\" class=\"dataframe\">\n",
       "  <thead>\n",
       "    <tr style=\"text-align: right;\">\n",
       "      <th></th>\n",
       "      <th>age</th>\n",
       "      <th>sex</th>\n",
       "      <th>bmi</th>\n",
       "      <th>children</th>\n",
       "      <th>smoker</th>\n",
       "      <th>region</th>\n",
       "      <th>charges</th>\n",
       "    </tr>\n",
       "  </thead>\n",
       "  <tbody>\n",
       "    <tr>\n",
       "      <th>0</th>\n",
       "      <td>19</td>\n",
       "      <td>0</td>\n",
       "      <td>27.900</td>\n",
       "      <td>0</td>\n",
       "      <td>1</td>\n",
       "      <td>0</td>\n",
       "      <td>16884.92400</td>\n",
       "    </tr>\n",
       "    <tr>\n",
       "      <th>1</th>\n",
       "      <td>18</td>\n",
       "      <td>1</td>\n",
       "      <td>33.770</td>\n",
       "      <td>1</td>\n",
       "      <td>0</td>\n",
       "      <td>1</td>\n",
       "      <td>1725.55230</td>\n",
       "    </tr>\n",
       "    <tr>\n",
       "      <th>2</th>\n",
       "      <td>28</td>\n",
       "      <td>1</td>\n",
       "      <td>33.000</td>\n",
       "      <td>3</td>\n",
       "      <td>0</td>\n",
       "      <td>1</td>\n",
       "      <td>4449.46200</td>\n",
       "    </tr>\n",
       "    <tr>\n",
       "      <th>3</th>\n",
       "      <td>33</td>\n",
       "      <td>1</td>\n",
       "      <td>22.705</td>\n",
       "      <td>0</td>\n",
       "      <td>0</td>\n",
       "      <td>1</td>\n",
       "      <td>21984.47061</td>\n",
       "    </tr>\n",
       "    <tr>\n",
       "      <th>4</th>\n",
       "      <td>32</td>\n",
       "      <td>1</td>\n",
       "      <td>28.880</td>\n",
       "      <td>0</td>\n",
       "      <td>0</td>\n",
       "      <td>1</td>\n",
       "      <td>3866.85520</td>\n",
       "    </tr>\n",
       "  </tbody>\n",
       "</table>\n",
       "</div>"
      ],
      "text/plain": [
       "   age  sex     bmi  children  smoker  region      charges\n",
       "0   19    0  27.900         0       1       0  16884.92400\n",
       "1   18    1  33.770         1       0       1   1725.55230\n",
       "2   28    1  33.000         3       0       1   4449.46200\n",
       "3   33    1  22.705         0       0       1  21984.47061\n",
       "4   32    1  28.880         0       0       1   3866.85520"
      ]
     },
     "execution_count": 7,
     "metadata": {},
     "output_type": "execute_result"
    }
   ],
   "source": [
    "df.head()"
   ]
  },
  {
   "cell_type": "code",
   "execution_count": 8,
   "id": "5f957837",
   "metadata": {},
   "outputs": [],
   "source": [
    "df.drop_duplicates(inplace=True)"
   ]
  },
  {
   "cell_type": "code",
   "execution_count": 9,
   "id": "18e39004",
   "metadata": {},
   "outputs": [
    {
     "data": {
      "text/plain": [
       "(1337, 7)"
      ]
     },
     "execution_count": 9,
     "metadata": {},
     "output_type": "execute_result"
    }
   ],
   "source": [
    "df.shape"
   ]
  },
  {
   "cell_type": "markdown",
   "id": "e59b80dd",
   "metadata": {},
   "source": [
    "## question 4"
   ]
  },
  {
   "cell_type": "markdown",
   "id": "59708e60",
   "metadata": {},
   "source": [
    "We are now checking whether both the features are independent about each other or not using chi square test ( test for independence)\n",
    "\n",
    "\n",
    "H0 : sex and smoking are independent\n",
    "\n",
    "\n",
    "H1 : sex and smoking are not independent"
   ]
  },
  {
   "cell_type": "code",
   "execution_count": 10,
   "id": "ff764e45",
   "metadata": {},
   "outputs": [
    {
     "name": "stdout",
     "output_type": "stream",
     "text": [
      "Observed frequencies\n",
      "smoker    0    1\n",
      "sex             \n",
      "0       547  115\n",
      "1       516  159\n"
     ]
    }
   ],
   "source": [
    "obs_table=pd.crosstab(df['sex'],df['smoker'])\n",
    "print(\"Observed frequencies\")\n",
    "print(obs_table)"
   ]
  },
  {
   "cell_type": "code",
   "execution_count": 11,
   "id": "a0df651e",
   "metadata": {},
   "outputs": [
    {
     "name": "stdout",
     "output_type": "stream",
     "text": [
      "[[547 115]\n",
      " [516 159]]\n"
     ]
    }
   ],
   "source": [
    "obs=obs_table.values\n",
    "print(obs)"
   ]
  },
  {
   "cell_type": "code",
   "execution_count": 12,
   "id": "b8d7e418",
   "metadata": {},
   "outputs": [
    {
     "name": "stdout",
     "output_type": "stream",
     "text": [
      "(7.469139330086637, 0.0062765550120107375, 1, array([[526.33208676, 135.66791324],\n",
      "       [536.66791324, 138.33208676]]))\n"
     ]
    }
   ],
   "source": [
    "exp_t=stats.chi2_contingency(obs_table)\n",
    "print(exp_t)"
   ]
  },
  {
   "cell_type": "code",
   "execution_count": 13,
   "id": "a5c9c3c1",
   "metadata": {},
   "outputs": [
    {
     "name": "stdout",
     "output_type": "stream",
     "text": [
      "Expected frequencies\n",
      "[[526.33208676 135.66791324]\n",
      " [536.66791324 138.33208676]]\n"
     ]
    }
   ],
   "source": [
    "dof=exp_t[2]\n",
    "exp=exp_t[3]\n",
    "print(\"Expected frequencies\")\n",
    "print(exp)"
   ]
  },
  {
   "cell_type": "code",
   "execution_count": 14,
   "id": "00f6669d",
   "metadata": {},
   "outputs": [
    {
     "name": "stdout",
     "output_type": "stream",
     "text": [
      "chi square statistic\n",
      "7.844077785733106\n"
     ]
    }
   ],
   "source": [
    "chi_squared_stat = (((obs-exp)**2)/exp).sum().sum()\n",
    "print(\"chi square statistic\")\n",
    "print(chi_squared_stat)"
   ]
  },
  {
   "cell_type": "code",
   "execution_count": 15,
   "id": "49d8cd9d",
   "metadata": {},
   "outputs": [
    {
     "name": "stdout",
     "output_type": "stream",
     "text": [
      "critical value for respective confidence interval and degree of freedom\n",
      "3.841458820694124\n"
     ]
    }
   ],
   "source": [
    "crit=stats.chi2.ppf(q = 0.95,df = dof) \n",
    "print(\"critical value for respective confidence interval and degree of freedom\")\n",
    "print(crit)"
   ]
  },
  {
   "cell_type": "code",
   "execution_count": 16,
   "id": "a1fa354f",
   "metadata": {},
   "outputs": [
    {
     "name": "stdout",
     "output_type": "stream",
     "text": [
      "P value\n",
      "0.005098746217145678\n"
     ]
    }
   ],
   "source": [
    "p_value = 1 - stats.chi2.cdf(x=chi_squared_stat,  \n",
    "                             df=dof)\n",
    "print(\"P value\")\n",
    "print(p_value)"
   ]
  },
  {
   "cell_type": "code",
   "execution_count": 17,
   "id": "bd5ad988",
   "metadata": {},
   "outputs": [
    {
     "name": "stdout",
     "output_type": "stream",
     "text": [
      " we are rejecting null hypothesis\n"
     ]
    }
   ],
   "source": [
    "if p_value < 0.05:   \n",
    "    print(\" we are rejecting null hypothesis\")\n",
    "else:\n",
    "    print(\"we are accepting null hypothesis\")"
   ]
  },
  {
   "cell_type": "markdown",
   "id": "25848473",
   "metadata": {},
   "source": [
    "### Sex and smoking are not independent"
   ]
  },
  {
   "cell_type": "markdown",
   "id": "31650ea8",
   "metadata": {},
   "source": [
    "## question 5"
   ]
  },
  {
   "cell_type": "code",
   "execution_count": 18,
   "id": "1490a527",
   "metadata": {},
   "outputs": [],
   "source": [
    "X=df.drop('charges',axis=1)\n",
    "cnames=list(X.columns)"
   ]
  },
  {
   "cell_type": "code",
   "execution_count": 19,
   "id": "a1029857",
   "metadata": {},
   "outputs": [
    {
     "data": {
      "text/plain": [
       "['age', 'sex', 'bmi', 'children', 'smoker', 'region']"
      ]
     },
     "execution_count": 19,
     "metadata": {},
     "output_type": "execute_result"
    }
   ],
   "source": [
    "cnames"
   ]
  },
  {
   "cell_type": "code",
   "execution_count": 20,
   "id": "6d06f07a",
   "metadata": {},
   "outputs": [
    {
     "name": "stdout",
     "output_type": "stream",
     "text": [
      " age and  sex are independent\n",
      " age and  bmi are independent\n",
      " age and  children are not independent\n",
      " age and  smoker are independent\n",
      " age and  region are independent\n",
      " sex and  age are independent\n",
      " sex and  bmi are independent\n",
      " sex and  children are independent\n",
      " sex and  smoker are not independent\n",
      " sex and  region are not independent\n",
      " bmi and  age are independent\n",
      " bmi and  sex are independent\n",
      " bmi and  children are independent\n",
      " bmi and  smoker are independent\n",
      " bmi and  region are independent\n",
      " children and  age are not independent\n",
      " children and  sex are independent\n",
      " children and  bmi are independent\n",
      " children and  smoker are independent\n",
      " children and  region are independent\n",
      " smoker and  age are independent\n",
      " smoker and  sex are not independent\n",
      " smoker and  bmi are independent\n",
      " smoker and  children are independent\n",
      " smoker and  region are not independent\n",
      " region and  age are independent\n",
      " region and  sex are not independent\n",
      " region and  bmi are independent\n",
      " region and  children are independent\n",
      " region and  smoker are not independent\n"
     ]
    }
   ],
   "source": [
    "for i in cnames:\n",
    "    for j in cnames:\n",
    "        if(i!=j):\n",
    "            obs_table=pd.crosstab(df[i],df[j])\n",
    "            obs=obs_table.values\n",
    "            exp_t=stats.chi2_contingency(obs_table)\n",
    "            dof=exp_t[2]\n",
    "            exp=exp_t[3]\n",
    "            chi_squared_stat = (((obs-exp)**2)/exp).sum().sum()\n",
    "            crit=stats.chi2.ppf(q = 0.95,df = dof) \n",
    "            p_value = 1 - stats.chi2.cdf(x=chi_squared_stat,df=dof)\n",
    "            if p_value < 0.05:\n",
    "                print(f\" {i} and  {j} are not independent\")\n",
    "            else:\n",
    "                print(f\" {i} and  {j} are independent\")"
   ]
  },
  {
   "cell_type": "markdown",
   "id": "d7e2014b",
   "metadata": {},
   "source": [
    "Not all the regressor variables are independent of each other, only bmi is independent with all features"
   ]
  },
  {
   "cell_type": "markdown",
   "id": "f20c695a",
   "metadata": {},
   "source": [
    "## question 6"
   ]
  },
  {
   "cell_type": "code",
   "execution_count": 21,
   "id": "69bfc629",
   "metadata": {},
   "outputs": [
    {
     "name": "stdout",
     "output_type": "stream",
     "text": [
      " age and  charges are independent\n",
      " sex and  charges are independent\n",
      " bmi and  charges are independent\n",
      " children and  charges are independent\n",
      " smoker and  charges are independent\n",
      " region and  charges are independent\n"
     ]
    }
   ],
   "source": [
    "j=\"charges\"\n",
    "for i in cnames:\n",
    "    obs_table=pd.crosstab(df[i],df[j])\n",
    "    obs=obs_table.values\n",
    "    exp_t=stats.chi2_contingency(obs_table)\n",
    "    dof=exp_t[2]\n",
    "    exp=exp_t[3]\n",
    "    chi_squared_stat = (((obs-exp)**2)/exp).sum().sum()\n",
    "    crit=stats.chi2.ppf(q = 0.95,df = dof) \n",
    "    p_value = 1 - stats.chi2.cdf(x=chi_squared_stat,df=dof)\n",
    "    if p_value < 0.05:\n",
    "        print(f\" {i} and  {j} are not independent\")\n",
    "    else:\n",
    "        print(f\" {i} and  {j} are independent\")"
   ]
  },
  {
   "cell_type": "markdown",
   "id": "59f1bdb3",
   "metadata": {},
   "source": [
    "response and regressors are independent of each other"
   ]
  },
  {
   "cell_type": "markdown",
   "id": "97beaf2a",
   "metadata": {},
   "source": [
    "## question 7"
   ]
  },
  {
   "cell_type": "code",
   "execution_count": 22,
   "id": "e498b3b8",
   "metadata": {},
   "outputs": [],
   "source": [
    "X=df.drop('charges',axis=1)\n",
    "y=df['charges']"
   ]
  },
  {
   "cell_type": "code",
   "execution_count": 23,
   "id": "eb27603c",
   "metadata": {},
   "outputs": [],
   "source": [
    "from sklearn.model_selection import train_test_split\n",
    "X_train,X_test,y_train,y_test=train_test_split(X,y,test_size=0.2,random_state=3)"
   ]
  },
  {
   "cell_type": "code",
   "execution_count": 24,
   "id": "f6e36330",
   "metadata": {},
   "outputs": [],
   "source": [
    "from sklearn.linear_model import LinearRegression\n",
    "model=LinearRegression()\n",
    "model.fit(X_train,y_train)\n",
    "pred=model.predict(X_test)"
   ]
  },
  {
   "cell_type": "code",
   "execution_count": 25,
   "id": "2a4fb013",
   "metadata": {},
   "outputs": [
    {
     "data": {
      "text/plain": [
       "-12004.987401392233"
      ]
     },
     "execution_count": 25,
     "metadata": {},
     "output_type": "execute_result"
    }
   ],
   "source": [
    "model.intercept_"
   ]
  },
  {
   "cell_type": "code",
   "execution_count": 26,
   "id": "03fff84f",
   "metadata": {},
   "outputs": [
    {
     "data": {
      "text/plain": [
       "array([  261.02035669,  -113.22506984,   316.78476878,   464.61064522,\n",
       "       24239.42001414,  -113.22506984])"
      ]
     },
     "execution_count": 26,
     "metadata": {},
     "output_type": "execute_result"
    }
   ],
   "source": [
    "model.coef_"
   ]
  },
  {
   "cell_type": "markdown",
   "id": "7373fd1c",
   "metadata": {},
   "source": [
    "## question 8"
   ]
  },
  {
   "cell_type": "code",
   "execution_count": 27,
   "id": "fc932b7a",
   "metadata": {},
   "outputs": [
    {
     "data": {
      "text/plain": [
       "0.7604691935331385"
      ]
     },
     "execution_count": 27,
     "metadata": {},
     "output_type": "execute_result"
    }
   ],
   "source": [
    "model.score(X_test,y_test)"
   ]
  },
  {
   "cell_type": "markdown",
   "id": "325c33f5",
   "metadata": {},
   "source": [
    "## question 9"
   ]
  },
  {
   "cell_type": "code",
   "execution_count": 28,
   "id": "710f0db9",
   "metadata": {},
   "outputs": [
    {
     "name": "stderr",
     "output_type": "stream",
     "text": [
      "C:\\Users\\Lucifer.LAPTOP-19ER5RAR\\anaconda3\\lib\\site-packages\\sklearn\\base.py:450: UserWarning: X does not have valid feature names, but LinearRegression was fitted with feature names\n",
      "  warnings.warn(\n"
     ]
    }
   ],
   "source": [
    "pred1=model.predict([[29,0,28,1,1,0]])"
   ]
  },
  {
   "cell_type": "code",
   "execution_count": 29,
   "id": "8d278f94",
   "metadata": {},
   "outputs": [
    {
     "data": {
      "text/plain": [
       "array([29138.60712805])"
      ]
     },
     "execution_count": 29,
     "metadata": {},
     "output_type": "execute_result"
    }
   ],
   "source": [
    "pred1"
   ]
  },
  {
   "cell_type": "markdown",
   "id": "28efa1e1",
   "metadata": {},
   "source": [
    "insurance chagers : 29138.60712805"
   ]
  },
  {
   "cell_type": "markdown",
   "id": "8970c829",
   "metadata": {},
   "source": [
    "## question 10"
   ]
  },
  {
   "cell_type": "code",
   "execution_count": 30,
   "id": "26580962",
   "metadata": {},
   "outputs": [],
   "source": [
    "from sklearn.metrics import mean_absolute_percentage_error"
   ]
  },
  {
   "cell_type": "code",
   "execution_count": 31,
   "id": "ca1f8ead",
   "metadata": {},
   "outputs": [],
   "source": [
    "error=mean_absolute_percentage_error(y_test,pred)"
   ]
  },
  {
   "cell_type": "code",
   "execution_count": 32,
   "id": "163ae9d4",
   "metadata": {},
   "outputs": [
    {
     "data": {
      "text/plain": [
       "0.39702898287144683"
      ]
     },
     "execution_count": 32,
     "metadata": {},
     "output_type": "execute_result"
    }
   ],
   "source": [
    "error"
   ]
  },
  {
   "cell_type": "markdown",
   "id": "7fe0bd0b",
   "metadata": {},
   "source": [
    "## question 11"
   ]
  },
  {
   "cell_type": "code",
   "execution_count": 33,
   "id": "da68973c",
   "metadata": {},
   "outputs": [
    {
     "name": "stdout",
     "output_type": "stream",
     "text": [
      "13279.121486655948\n"
     ]
    }
   ],
   "source": [
    "y_mean=np.mean(y)\n",
    "print(y_mean)"
   ]
  }
 ],
 "metadata": {
  "kernelspec": {
   "display_name": "Python 3 (ipykernel)",
   "language": "python",
   "name": "python3"
  },
  "language_info": {
   "codemirror_mode": {
    "name": "ipython",
    "version": 3
   },
   "file_extension": ".py",
   "mimetype": "text/x-python",
   "name": "python",
   "nbconvert_exporter": "python",
   "pygments_lexer": "ipython3",
   "version": "3.9.15"
  }
 },
 "nbformat": 4,
 "nbformat_minor": 5
}
