{
 "cells": [
  {
   "cell_type": "code",
   "execution_count": 1,
   "id": "6910a499",
   "metadata": {},
   "outputs": [],
   "source": [
    "import pandas as pd\n",
    "import numpy as np\n",
    "from scipy import stats\n",
    "import matplotlib.pyplot as plt\n",
    "import seaborn as sns\n",
    "\n",
    "import warnings\n",
    "warnings.filterwarnings('ignore')"
   ]
  },
  {
   "cell_type": "markdown",
   "id": "9fbd7019",
   "metadata": {},
   "source": [
    "# 1.Display the data of white wine and red wine"
   ]
  },
  {
   "cell_type": "code",
   "execution_count": 2,
   "id": "ad1100b2",
   "metadata": {},
   "outputs": [],
   "source": [
    "white = pd.read_csv('winequality-white.csv')\n",
    "red = pd.read_csv('winequality-red.csv')\n"
   ]
  },
  {
   "cell_type": "code",
   "execution_count": 3,
   "id": "3f144b96",
   "metadata": {},
   "outputs": [],
   "source": [
    "white = white.rename(columns={'fixed acidity': 'fixed_acidity', 'volatile acidity': 'volatile_acidity', 'citric acid': 'citric_acid',\n",
    "                        'residual sugar': 'residual_sugar', 'chlorides': 'chlorides', 'free sulfur dioxide': 'free_sulfur_dioxide', 'total sulfur dioxide':'total_sulfur_dioxide',\n",
    "                        'density': 'density', 'pH': 'pH', 'sulphates': 'sulphates', 'alcohol': 'alcohol', 'quality': 'quality'})\n",
    "\n",
    "red = red.rename(columns={'fixed acidity': 'fixed_acidity', 'volatile acidity': 'volatile_acidity', 'citric acid': 'citric_acid',\n",
    "                        'residual sugar': 'residual_sugar', 'chlorides': 'chlorides', 'free sulfur dioxide': 'free_sulfur_dioxide', 'total sulfur dioxide':'total_sulfur_dioxide',\n",
    "                        'density': 'density', 'pH': 'pH', 'sulphates': 'sulphates', 'alcohol': 'alcohol', 'quality': 'quality'})"
   ]
  },
  {
   "cell_type": "code",
   "execution_count": 4,
   "id": "7077abf8",
   "metadata": {},
   "outputs": [],
   "source": [
    "# Create a copy of dataset\n",
    "\n",
    "white_copy = white.copy()\n",
    "red_copy = red.copy()"
   ]
  },
  {
   "cell_type": "code",
   "execution_count": 5,
   "id": "e953a3f9",
   "metadata": {},
   "outputs": [
    {
     "data": {
      "text/html": [
       "<div>\n",
       "<style scoped>\n",
       "    .dataframe tbody tr th:only-of-type {\n",
       "        vertical-align: middle;\n",
       "    }\n",
       "\n",
       "    .dataframe tbody tr th {\n",
       "        vertical-align: top;\n",
       "    }\n",
       "\n",
       "    .dataframe thead th {\n",
       "        text-align: right;\n",
       "    }\n",
       "</style>\n",
       "<table border=\"1\" class=\"dataframe\">\n",
       "  <thead>\n",
       "    <tr style=\"text-align: right;\">\n",
       "      <th></th>\n",
       "      <th>fixed_acidity</th>\n",
       "      <th>volatile_acidity</th>\n",
       "      <th>citric_acid</th>\n",
       "      <th>residual_sugar</th>\n",
       "      <th>chlorides</th>\n",
       "      <th>free_sulfur_dioxide</th>\n",
       "      <th>total_sulfur_dioxide</th>\n",
       "      <th>density</th>\n",
       "      <th>pH</th>\n",
       "      <th>sulphates</th>\n",
       "      <th>alcohol</th>\n",
       "      <th>quality</th>\n",
       "    </tr>\n",
       "  </thead>\n",
       "  <tbody>\n",
       "    <tr>\n",
       "      <th>0</th>\n",
       "      <td>7.0</td>\n",
       "      <td>0.27</td>\n",
       "      <td>0.36</td>\n",
       "      <td>20.7</td>\n",
       "      <td>0.045</td>\n",
       "      <td>45.0</td>\n",
       "      <td>170.0</td>\n",
       "      <td>1.0010</td>\n",
       "      <td>3.00</td>\n",
       "      <td>0.45</td>\n",
       "      <td>8.8</td>\n",
       "      <td>6</td>\n",
       "    </tr>\n",
       "    <tr>\n",
       "      <th>1</th>\n",
       "      <td>6.3</td>\n",
       "      <td>0.30</td>\n",
       "      <td>0.34</td>\n",
       "      <td>1.6</td>\n",
       "      <td>0.049</td>\n",
       "      <td>14.0</td>\n",
       "      <td>132.0</td>\n",
       "      <td>0.9940</td>\n",
       "      <td>3.30</td>\n",
       "      <td>0.49</td>\n",
       "      <td>9.5</td>\n",
       "      <td>6</td>\n",
       "    </tr>\n",
       "    <tr>\n",
       "      <th>2</th>\n",
       "      <td>8.1</td>\n",
       "      <td>0.28</td>\n",
       "      <td>0.40</td>\n",
       "      <td>6.9</td>\n",
       "      <td>0.050</td>\n",
       "      <td>30.0</td>\n",
       "      <td>97.0</td>\n",
       "      <td>0.9951</td>\n",
       "      <td>3.26</td>\n",
       "      <td>0.44</td>\n",
       "      <td>10.1</td>\n",
       "      <td>6</td>\n",
       "    </tr>\n",
       "    <tr>\n",
       "      <th>3</th>\n",
       "      <td>7.2</td>\n",
       "      <td>0.23</td>\n",
       "      <td>0.32</td>\n",
       "      <td>8.5</td>\n",
       "      <td>0.058</td>\n",
       "      <td>47.0</td>\n",
       "      <td>186.0</td>\n",
       "      <td>0.9956</td>\n",
       "      <td>3.19</td>\n",
       "      <td>0.40</td>\n",
       "      <td>9.9</td>\n",
       "      <td>6</td>\n",
       "    </tr>\n",
       "    <tr>\n",
       "      <th>4</th>\n",
       "      <td>7.2</td>\n",
       "      <td>0.23</td>\n",
       "      <td>0.32</td>\n",
       "      <td>8.5</td>\n",
       "      <td>0.058</td>\n",
       "      <td>47.0</td>\n",
       "      <td>186.0</td>\n",
       "      <td>0.9956</td>\n",
       "      <td>3.19</td>\n",
       "      <td>0.40</td>\n",
       "      <td>9.9</td>\n",
       "      <td>6</td>\n",
       "    </tr>\n",
       "  </tbody>\n",
       "</table>\n",
       "</div>"
      ],
      "text/plain": [
       "   fixed_acidity  volatile_acidity  citric_acid  residual_sugar  chlorides  \\\n",
       "0            7.0              0.27         0.36            20.7      0.045   \n",
       "1            6.3              0.30         0.34             1.6      0.049   \n",
       "2            8.1              0.28         0.40             6.9      0.050   \n",
       "3            7.2              0.23         0.32             8.5      0.058   \n",
       "4            7.2              0.23         0.32             8.5      0.058   \n",
       "\n",
       "   free_sulfur_dioxide  total_sulfur_dioxide  density    pH  sulphates  \\\n",
       "0                 45.0                 170.0   1.0010  3.00       0.45   \n",
       "1                 14.0                 132.0   0.9940  3.30       0.49   \n",
       "2                 30.0                  97.0   0.9951  3.26       0.44   \n",
       "3                 47.0                 186.0   0.9956  3.19       0.40   \n",
       "4                 47.0                 186.0   0.9956  3.19       0.40   \n",
       "\n",
       "   alcohol  quality  \n",
       "0      8.8        6  \n",
       "1      9.5        6  \n",
       "2     10.1        6  \n",
       "3      9.9        6  \n",
       "4      9.9        6  "
      ]
     },
     "execution_count": 5,
     "metadata": {},
     "output_type": "execute_result"
    }
   ],
   "source": [
    "white.head()"
   ]
  },
  {
   "cell_type": "code",
   "execution_count": 6,
   "id": "16ecac1b",
   "metadata": {},
   "outputs": [
    {
     "data": {
      "text/html": [
       "<div>\n",
       "<style scoped>\n",
       "    .dataframe tbody tr th:only-of-type {\n",
       "        vertical-align: middle;\n",
       "    }\n",
       "\n",
       "    .dataframe tbody tr th {\n",
       "        vertical-align: top;\n",
       "    }\n",
       "\n",
       "    .dataframe thead th {\n",
       "        text-align: right;\n",
       "    }\n",
       "</style>\n",
       "<table border=\"1\" class=\"dataframe\">\n",
       "  <thead>\n",
       "    <tr style=\"text-align: right;\">\n",
       "      <th></th>\n",
       "      <th>fixed_acidity</th>\n",
       "      <th>volatile_acidity</th>\n",
       "      <th>citric_acid</th>\n",
       "      <th>residual_sugar</th>\n",
       "      <th>chlorides</th>\n",
       "      <th>free_sulfur_dioxide</th>\n",
       "      <th>total_sulfur_dioxide</th>\n",
       "      <th>density</th>\n",
       "      <th>pH</th>\n",
       "      <th>sulphates</th>\n",
       "      <th>alcohol</th>\n",
       "      <th>quality</th>\n",
       "    </tr>\n",
       "  </thead>\n",
       "  <tbody>\n",
       "    <tr>\n",
       "      <th>0</th>\n",
       "      <td>7.4</td>\n",
       "      <td>0.70</td>\n",
       "      <td>0.00</td>\n",
       "      <td>1.9</td>\n",
       "      <td>0.076</td>\n",
       "      <td>11.0</td>\n",
       "      <td>34.0</td>\n",
       "      <td>0.9978</td>\n",
       "      <td>3.51</td>\n",
       "      <td>0.56</td>\n",
       "      <td>9.4</td>\n",
       "      <td>5</td>\n",
       "    </tr>\n",
       "    <tr>\n",
       "      <th>1</th>\n",
       "      <td>7.8</td>\n",
       "      <td>0.88</td>\n",
       "      <td>0.00</td>\n",
       "      <td>2.6</td>\n",
       "      <td>0.098</td>\n",
       "      <td>25.0</td>\n",
       "      <td>67.0</td>\n",
       "      <td>0.9968</td>\n",
       "      <td>3.20</td>\n",
       "      <td>0.68</td>\n",
       "      <td>9.8</td>\n",
       "      <td>5</td>\n",
       "    </tr>\n",
       "    <tr>\n",
       "      <th>2</th>\n",
       "      <td>7.8</td>\n",
       "      <td>0.76</td>\n",
       "      <td>0.04</td>\n",
       "      <td>2.3</td>\n",
       "      <td>0.092</td>\n",
       "      <td>15.0</td>\n",
       "      <td>54.0</td>\n",
       "      <td>0.9970</td>\n",
       "      <td>3.26</td>\n",
       "      <td>0.65</td>\n",
       "      <td>9.8</td>\n",
       "      <td>5</td>\n",
       "    </tr>\n",
       "    <tr>\n",
       "      <th>3</th>\n",
       "      <td>11.2</td>\n",
       "      <td>0.28</td>\n",
       "      <td>0.56</td>\n",
       "      <td>1.9</td>\n",
       "      <td>0.075</td>\n",
       "      <td>17.0</td>\n",
       "      <td>60.0</td>\n",
       "      <td>0.9980</td>\n",
       "      <td>3.16</td>\n",
       "      <td>0.58</td>\n",
       "      <td>9.8</td>\n",
       "      <td>6</td>\n",
       "    </tr>\n",
       "    <tr>\n",
       "      <th>4</th>\n",
       "      <td>7.4</td>\n",
       "      <td>0.70</td>\n",
       "      <td>0.00</td>\n",
       "      <td>1.9</td>\n",
       "      <td>0.076</td>\n",
       "      <td>11.0</td>\n",
       "      <td>34.0</td>\n",
       "      <td>0.9978</td>\n",
       "      <td>3.51</td>\n",
       "      <td>0.56</td>\n",
       "      <td>9.4</td>\n",
       "      <td>5</td>\n",
       "    </tr>\n",
       "  </tbody>\n",
       "</table>\n",
       "</div>"
      ],
      "text/plain": [
       "   fixed_acidity  volatile_acidity  citric_acid  residual_sugar  chlorides  \\\n",
       "0            7.4              0.70         0.00             1.9      0.076   \n",
       "1            7.8              0.88         0.00             2.6      0.098   \n",
       "2            7.8              0.76         0.04             2.3      0.092   \n",
       "3           11.2              0.28         0.56             1.9      0.075   \n",
       "4            7.4              0.70         0.00             1.9      0.076   \n",
       "\n",
       "   free_sulfur_dioxide  total_sulfur_dioxide  density    pH  sulphates  \\\n",
       "0                 11.0                  34.0   0.9978  3.51       0.56   \n",
       "1                 25.0                  67.0   0.9968  3.20       0.68   \n",
       "2                 15.0                  54.0   0.9970  3.26       0.65   \n",
       "3                 17.0                  60.0   0.9980  3.16       0.58   \n",
       "4                 11.0                  34.0   0.9978  3.51       0.56   \n",
       "\n",
       "   alcohol  quality  \n",
       "0      9.4        5  \n",
       "1      9.8        5  \n",
       "2      9.8        5  \n",
       "3      9.8        6  \n",
       "4      9.4        5  "
      ]
     },
     "execution_count": 6,
     "metadata": {},
     "output_type": "execute_result"
    }
   ],
   "source": [
    "red.head()"
   ]
  },
  {
   "cell_type": "markdown",
   "id": "7b776fc8",
   "metadata": {},
   "source": [
    "# 2.Get the size of both white wine and red wine.\n"
   ]
  },
  {
   "cell_type": "code",
   "execution_count": 7,
   "id": "371b2c5e",
   "metadata": {},
   "outputs": [
    {
     "name": "stdout",
     "output_type": "stream",
     "text": [
      "Size of wine quality - White : (4898, 12)\n",
      "Size of wine quality - Red : (1599, 12)\n"
     ]
    }
   ],
   "source": [
    "print('Size of wine quality - White :',white.shape)\n",
    "print('Size of wine quality - Red :',red.shape)"
   ]
  },
  {
   "cell_type": "markdown",
   "id": "ed46d7bf",
   "metadata": {},
   "source": [
    "# 3.Get the number of null in both type of wines\n",
    "\n"
   ]
  },
  {
   "cell_type": "code",
   "execution_count": 8,
   "id": "1ef0cde0",
   "metadata": {},
   "outputs": [
    {
     "data": {
      "text/plain": [
       "fixed_acidity           0\n",
       "volatile_acidity        0\n",
       "citric_acid             0\n",
       "residual_sugar          0\n",
       "chlorides               0\n",
       "free_sulfur_dioxide     0\n",
       "total_sulfur_dioxide    0\n",
       "density                 0\n",
       "pH                      0\n",
       "sulphates               0\n",
       "alcohol                 0\n",
       "quality                 0\n",
       "dtype: int64"
      ]
     },
     "execution_count": 8,
     "metadata": {},
     "output_type": "execute_result"
    }
   ],
   "source": [
    "white.isnull().sum()"
   ]
  },
  {
   "cell_type": "code",
   "execution_count": 9,
   "id": "33003f5e",
   "metadata": {},
   "outputs": [
    {
     "data": {
      "text/plain": [
       "fixed_acidity           0\n",
       "volatile_acidity        0\n",
       "citric_acid             0\n",
       "residual_sugar          0\n",
       "chlorides               0\n",
       "free_sulfur_dioxide     0\n",
       "total_sulfur_dioxide    0\n",
       "density                 0\n",
       "pH                      0\n",
       "sulphates               0\n",
       "alcohol                 0\n",
       "quality                 0\n",
       "dtype: int64"
      ]
     },
     "execution_count": 9,
     "metadata": {},
     "output_type": "execute_result"
    }
   ],
   "source": [
    "white.isna().sum()"
   ]
  },
  {
   "cell_type": "code",
   "execution_count": 10,
   "id": "36cce52a",
   "metadata": {},
   "outputs": [
    {
     "data": {
      "text/plain": [
       "fixed_acidity           0\n",
       "volatile_acidity        0\n",
       "citric_acid             0\n",
       "residual_sugar          0\n",
       "chlorides               0\n",
       "free_sulfur_dioxide     0\n",
       "total_sulfur_dioxide    0\n",
       "density                 0\n",
       "pH                      0\n",
       "sulphates               0\n",
       "alcohol                 0\n",
       "quality                 0\n",
       "dtype: int64"
      ]
     },
     "execution_count": 10,
     "metadata": {},
     "output_type": "execute_result"
    }
   ],
   "source": [
    "red.isnull().sum()"
   ]
  },
  {
   "cell_type": "code",
   "execution_count": 11,
   "id": "e8fe7ca0",
   "metadata": {},
   "outputs": [
    {
     "data": {
      "text/plain": [
       "fixed_acidity           0\n",
       "volatile_acidity        0\n",
       "citric_acid             0\n",
       "residual_sugar          0\n",
       "chlorides               0\n",
       "free_sulfur_dioxide     0\n",
       "total_sulfur_dioxide    0\n",
       "density                 0\n",
       "pH                      0\n",
       "sulphates               0\n",
       "alcohol                 0\n",
       "quality                 0\n",
       "dtype: int64"
      ]
     },
     "execution_count": 11,
     "metadata": {},
     "output_type": "execute_result"
    }
   ],
   "source": [
    "red.isna().sum()"
   ]
  },
  {
   "cell_type": "markdown",
   "id": "e87b8a4a",
   "metadata": {},
   "source": [
    "# 4.Check for duplicates and remove them in both type of wine data\n",
    "\n"
   ]
  },
  {
   "cell_type": "code",
   "execution_count": 12,
   "id": "ed796363",
   "metadata": {},
   "outputs": [],
   "source": [
    "dup_white = white[white.duplicated()]\n",
    "dup_red = red[red.duplicated()]"
   ]
  },
  {
   "cell_type": "code",
   "execution_count": 13,
   "id": "c2a3e806",
   "metadata": {},
   "outputs": [
    {
     "name": "stdout",
     "output_type": "stream",
     "text": [
      "Number of duplicates in White :  (937, 12)\n",
      "Number of duplicates in Red :  (240, 12)\n"
     ]
    }
   ],
   "source": [
    "print('Number of duplicates in White : ',dup_white.shape)\n",
    "print('Number of duplicates in Red : ',dup_red.shape)"
   ]
  },
  {
   "cell_type": "markdown",
   "id": "7a7bdc61",
   "metadata": {},
   "source": [
    "# 5.Get the number of uniques values in all Feature and print them\n"
   ]
  },
  {
   "cell_type": "code",
   "execution_count": 14,
   "id": "9a69a0a7",
   "metadata": {},
   "outputs": [
    {
     "name": "stdout",
     "output_type": "stream",
     "text": [
      "Number of unique values in White wine quality -  fixed_acidity : 68\n",
      "Number of unique values in White wine quality -  volatile_acidity : 125\n",
      "Number of unique values in White wine quality -  citric_acid : 87\n",
      "Number of unique values in White wine quality -  residual_sugar : 310\n",
      "Number of unique values in White wine quality -  chlorides : 160\n",
      "Number of unique values in White wine quality -  free_sulfur_dioxide : 132\n",
      "Number of unique values in White wine quality -  total_sulfur_dioxide : 251\n",
      "Number of unique values in White wine quality -  density : 890\n",
      "Number of unique values in White wine quality -  pH : 103\n",
      "Number of unique values in White wine quality -  sulphates : 79\n",
      "Number of unique values in White wine quality -  alcohol : 103\n",
      "Number of unique values in White wine quality -  quality : 7\n"
     ]
    }
   ],
   "source": [
    "for column in white.columns: \n",
    "    print('Number of unique values in White wine quality - ', column, \":\", white[column].nunique())"
   ]
  },
  {
   "cell_type": "code",
   "execution_count": 15,
   "id": "2b29f43e",
   "metadata": {},
   "outputs": [
    {
     "name": "stdout",
     "output_type": "stream",
     "text": [
      "Number of unique values in Red wine quality -  fixed_acidity : 96\n",
      "Number of unique values in Red wine quality -  volatile_acidity : 143\n",
      "Number of unique values in Red wine quality -  citric_acid : 80\n",
      "Number of unique values in Red wine quality -  residual_sugar : 91\n",
      "Number of unique values in Red wine quality -  chlorides : 153\n",
      "Number of unique values in Red wine quality -  free_sulfur_dioxide : 60\n",
      "Number of unique values in Red wine quality -  total_sulfur_dioxide : 144\n",
      "Number of unique values in Red wine quality -  density : 436\n",
      "Number of unique values in Red wine quality -  pH : 89\n",
      "Number of unique values in Red wine quality -  sulphates : 96\n",
      "Number of unique values in Red wine quality -  alcohol : 65\n",
      "Number of unique values in Red wine quality -  quality : 6\n"
     ]
    }
   ],
   "source": [
    "for column in white.columns: \n",
    "    print('Number of unique values in Red wine quality - ', column, \":\", red[column].nunique())"
   ]
  },
  {
   "cell_type": "markdown",
   "id": "a57d27ad",
   "metadata": {},
   "source": [
    "# 6.Print the mean density of both the sets\n",
    "\n"
   ]
  },
  {
   "cell_type": "code",
   "execution_count": 16,
   "id": "36c8585c",
   "metadata": {},
   "outputs": [
    {
     "name": "stdout",
     "output_type": "stream",
     "text": [
      "Mean Density in White 0.9940273764801896\n",
      "Mean Density in Red 0.9967466791744831\n"
     ]
    }
   ],
   "source": [
    "print('Mean Density in White', white['density'].mean())\n",
    "print('Mean Density in Red', red['density'].mean())"
   ]
  },
  {
   "cell_type": "markdown",
   "id": "50b01d83",
   "metadata": {},
   "source": [
    "# 7.Combine both the datasets with color of the wine in column\n",
    "\n"
   ]
  },
  {
   "cell_type": "code",
   "execution_count": 17,
   "id": "98dc44af",
   "metadata": {},
   "outputs": [],
   "source": [
    "white['color'] = 'white'\n",
    "red['color'] = 'red'\n",
    "\n",
    "result = pd.concat([white, red], ignore_index=True)"
   ]
  },
  {
   "cell_type": "code",
   "execution_count": 18,
   "id": "72f3451c",
   "metadata": {},
   "outputs": [],
   "source": [
    "# Create a copy of combined dataset\n",
    "\n",
    "result_data = result.copy()"
   ]
  },
  {
   "cell_type": "code",
   "execution_count": 19,
   "id": "4cf4eeda",
   "metadata": {},
   "outputs": [
    {
     "data": {
      "text/plain": [
       "(6497, 13)"
      ]
     },
     "execution_count": 19,
     "metadata": {},
     "output_type": "execute_result"
    }
   ],
   "source": [
    "result.shape"
   ]
  },
  {
   "cell_type": "code",
   "execution_count": 20,
   "id": "bf06da64",
   "metadata": {},
   "outputs": [
    {
     "data": {
      "text/html": [
       "<div>\n",
       "<style scoped>\n",
       "    .dataframe tbody tr th:only-of-type {\n",
       "        vertical-align: middle;\n",
       "    }\n",
       "\n",
       "    .dataframe tbody tr th {\n",
       "        vertical-align: top;\n",
       "    }\n",
       "\n",
       "    .dataframe thead th {\n",
       "        text-align: right;\n",
       "    }\n",
       "</style>\n",
       "<table border=\"1\" class=\"dataframe\">\n",
       "  <thead>\n",
       "    <tr style=\"text-align: right;\">\n",
       "      <th></th>\n",
       "      <th>fixed_acidity</th>\n",
       "      <th>volatile_acidity</th>\n",
       "      <th>citric_acid</th>\n",
       "      <th>residual_sugar</th>\n",
       "      <th>chlorides</th>\n",
       "      <th>free_sulfur_dioxide</th>\n",
       "      <th>total_sulfur_dioxide</th>\n",
       "      <th>density</th>\n",
       "      <th>pH</th>\n",
       "      <th>sulphates</th>\n",
       "      <th>alcohol</th>\n",
       "      <th>quality</th>\n",
       "      <th>color</th>\n",
       "    </tr>\n",
       "  </thead>\n",
       "  <tbody>\n",
       "    <tr>\n",
       "      <th>0</th>\n",
       "      <td>7.0</td>\n",
       "      <td>0.270</td>\n",
       "      <td>0.36</td>\n",
       "      <td>20.7</td>\n",
       "      <td>0.045</td>\n",
       "      <td>45.0</td>\n",
       "      <td>170.0</td>\n",
       "      <td>1.00100</td>\n",
       "      <td>3.00</td>\n",
       "      <td>0.45</td>\n",
       "      <td>8.8</td>\n",
       "      <td>6</td>\n",
       "      <td>white</td>\n",
       "    </tr>\n",
       "    <tr>\n",
       "      <th>1</th>\n",
       "      <td>6.3</td>\n",
       "      <td>0.300</td>\n",
       "      <td>0.34</td>\n",
       "      <td>1.6</td>\n",
       "      <td>0.049</td>\n",
       "      <td>14.0</td>\n",
       "      <td>132.0</td>\n",
       "      <td>0.99400</td>\n",
       "      <td>3.30</td>\n",
       "      <td>0.49</td>\n",
       "      <td>9.5</td>\n",
       "      <td>6</td>\n",
       "      <td>white</td>\n",
       "    </tr>\n",
       "    <tr>\n",
       "      <th>2</th>\n",
       "      <td>8.1</td>\n",
       "      <td>0.280</td>\n",
       "      <td>0.40</td>\n",
       "      <td>6.9</td>\n",
       "      <td>0.050</td>\n",
       "      <td>30.0</td>\n",
       "      <td>97.0</td>\n",
       "      <td>0.99510</td>\n",
       "      <td>3.26</td>\n",
       "      <td>0.44</td>\n",
       "      <td>10.1</td>\n",
       "      <td>6</td>\n",
       "      <td>white</td>\n",
       "    </tr>\n",
       "    <tr>\n",
       "      <th>3</th>\n",
       "      <td>7.2</td>\n",
       "      <td>0.230</td>\n",
       "      <td>0.32</td>\n",
       "      <td>8.5</td>\n",
       "      <td>0.058</td>\n",
       "      <td>47.0</td>\n",
       "      <td>186.0</td>\n",
       "      <td>0.99560</td>\n",
       "      <td>3.19</td>\n",
       "      <td>0.40</td>\n",
       "      <td>9.9</td>\n",
       "      <td>6</td>\n",
       "      <td>white</td>\n",
       "    </tr>\n",
       "    <tr>\n",
       "      <th>4</th>\n",
       "      <td>7.2</td>\n",
       "      <td>0.230</td>\n",
       "      <td>0.32</td>\n",
       "      <td>8.5</td>\n",
       "      <td>0.058</td>\n",
       "      <td>47.0</td>\n",
       "      <td>186.0</td>\n",
       "      <td>0.99560</td>\n",
       "      <td>3.19</td>\n",
       "      <td>0.40</td>\n",
       "      <td>9.9</td>\n",
       "      <td>6</td>\n",
       "      <td>white</td>\n",
       "    </tr>\n",
       "    <tr>\n",
       "      <th>...</th>\n",
       "      <td>...</td>\n",
       "      <td>...</td>\n",
       "      <td>...</td>\n",
       "      <td>...</td>\n",
       "      <td>...</td>\n",
       "      <td>...</td>\n",
       "      <td>...</td>\n",
       "      <td>...</td>\n",
       "      <td>...</td>\n",
       "      <td>...</td>\n",
       "      <td>...</td>\n",
       "      <td>...</td>\n",
       "      <td>...</td>\n",
       "    </tr>\n",
       "    <tr>\n",
       "      <th>6491</th>\n",
       "      <td>6.8</td>\n",
       "      <td>0.620</td>\n",
       "      <td>0.08</td>\n",
       "      <td>1.9</td>\n",
       "      <td>0.068</td>\n",
       "      <td>28.0</td>\n",
       "      <td>38.0</td>\n",
       "      <td>0.99651</td>\n",
       "      <td>3.42</td>\n",
       "      <td>0.82</td>\n",
       "      <td>9.5</td>\n",
       "      <td>6</td>\n",
       "      <td>red</td>\n",
       "    </tr>\n",
       "    <tr>\n",
       "      <th>6492</th>\n",
       "      <td>6.2</td>\n",
       "      <td>0.600</td>\n",
       "      <td>0.08</td>\n",
       "      <td>2.0</td>\n",
       "      <td>0.090</td>\n",
       "      <td>32.0</td>\n",
       "      <td>44.0</td>\n",
       "      <td>0.99490</td>\n",
       "      <td>3.45</td>\n",
       "      <td>0.58</td>\n",
       "      <td>10.5</td>\n",
       "      <td>5</td>\n",
       "      <td>red</td>\n",
       "    </tr>\n",
       "    <tr>\n",
       "      <th>6493</th>\n",
       "      <td>5.9</td>\n",
       "      <td>0.550</td>\n",
       "      <td>0.10</td>\n",
       "      <td>2.2</td>\n",
       "      <td>0.062</td>\n",
       "      <td>39.0</td>\n",
       "      <td>51.0</td>\n",
       "      <td>0.99512</td>\n",
       "      <td>3.52</td>\n",
       "      <td>0.76</td>\n",
       "      <td>11.2</td>\n",
       "      <td>6</td>\n",
       "      <td>red</td>\n",
       "    </tr>\n",
       "    <tr>\n",
       "      <th>6494</th>\n",
       "      <td>6.3</td>\n",
       "      <td>0.510</td>\n",
       "      <td>0.13</td>\n",
       "      <td>2.3</td>\n",
       "      <td>0.076</td>\n",
       "      <td>29.0</td>\n",
       "      <td>40.0</td>\n",
       "      <td>0.99574</td>\n",
       "      <td>3.42</td>\n",
       "      <td>0.75</td>\n",
       "      <td>11.0</td>\n",
       "      <td>6</td>\n",
       "      <td>red</td>\n",
       "    </tr>\n",
       "    <tr>\n",
       "      <th>6495</th>\n",
       "      <td>5.9</td>\n",
       "      <td>0.645</td>\n",
       "      <td>0.12</td>\n",
       "      <td>2.0</td>\n",
       "      <td>0.075</td>\n",
       "      <td>32.0</td>\n",
       "      <td>44.0</td>\n",
       "      <td>0.99547</td>\n",
       "      <td>3.57</td>\n",
       "      <td>0.71</td>\n",
       "      <td>10.2</td>\n",
       "      <td>5</td>\n",
       "      <td>red</td>\n",
       "    </tr>\n",
       "  </tbody>\n",
       "</table>\n",
       "<p>6496 rows × 13 columns</p>\n",
       "</div>"
      ],
      "text/plain": [
       "      fixed_acidity  volatile_acidity  citric_acid  residual_sugar  chlorides  \\\n",
       "0               7.0             0.270         0.36            20.7      0.045   \n",
       "1               6.3             0.300         0.34             1.6      0.049   \n",
       "2               8.1             0.280         0.40             6.9      0.050   \n",
       "3               7.2             0.230         0.32             8.5      0.058   \n",
       "4               7.2             0.230         0.32             8.5      0.058   \n",
       "...             ...               ...          ...             ...        ...   \n",
       "6491            6.8             0.620         0.08             1.9      0.068   \n",
       "6492            6.2             0.600         0.08             2.0      0.090   \n",
       "6493            5.9             0.550         0.10             2.2      0.062   \n",
       "6494            6.3             0.510         0.13             2.3      0.076   \n",
       "6495            5.9             0.645         0.12             2.0      0.075   \n",
       "\n",
       "      free_sulfur_dioxide  total_sulfur_dioxide  density    pH  sulphates  \\\n",
       "0                    45.0                 170.0  1.00100  3.00       0.45   \n",
       "1                    14.0                 132.0  0.99400  3.30       0.49   \n",
       "2                    30.0                  97.0  0.99510  3.26       0.44   \n",
       "3                    47.0                 186.0  0.99560  3.19       0.40   \n",
       "4                    47.0                 186.0  0.99560  3.19       0.40   \n",
       "...                   ...                   ...      ...   ...        ...   \n",
       "6491                 28.0                  38.0  0.99651  3.42       0.82   \n",
       "6492                 32.0                  44.0  0.99490  3.45       0.58   \n",
       "6493                 39.0                  51.0  0.99512  3.52       0.76   \n",
       "6494                 29.0                  40.0  0.99574  3.42       0.75   \n",
       "6495                 32.0                  44.0  0.99547  3.57       0.71   \n",
       "\n",
       "      alcohol  quality  color  \n",
       "0         8.8        6  white  \n",
       "1         9.5        6  white  \n",
       "2        10.1        6  white  \n",
       "3         9.9        6  white  \n",
       "4         9.9        6  white  \n",
       "...       ...      ...    ...  \n",
       "6491      9.5        6    red  \n",
       "6492     10.5        5    red  \n",
       "6493     11.2        6    red  \n",
       "6494     11.0        6    red  \n",
       "6495     10.2        5    red  \n",
       "\n",
       "[6496 rows x 13 columns]"
      ]
     },
     "execution_count": 20,
     "metadata": {},
     "output_type": "execute_result"
    }
   ],
   "source": [
    "result.head(-1)"
   ]
  },
  {
   "cell_type": "markdown",
   "id": "fc84018c",
   "metadata": {},
   "source": [
    "# 8.Remove the null values if any\n",
    "\n",
    "\n",
    "There is no null values in both the datasets. \n",
    "If there is any null values, then execute the below code. Remove \"#\" from the code"
   ]
  },
  {
   "cell_type": "code",
   "execution_count": 21,
   "id": "64c5d7bd",
   "metadata": {},
   "outputs": [
    {
     "data": {
      "text/plain": [
       "fixed_acidity           0\n",
       "volatile_acidity        0\n",
       "citric_acid             0\n",
       "residual_sugar          0\n",
       "chlorides               0\n",
       "free_sulfur_dioxide     0\n",
       "total_sulfur_dioxide    0\n",
       "density                 0\n",
       "pH                      0\n",
       "sulphates               0\n",
       "alcohol                 0\n",
       "quality                 0\n",
       "color                   0\n",
       "dtype: int64"
      ]
     },
     "execution_count": 21,
     "metadata": {},
     "output_type": "execute_result"
    }
   ],
   "source": [
    "# null values in combined dataset\n",
    "\n",
    "result.isnull().sum()\n",
    "\n",
    "# result = result.dropna()\n",
    "# print(result)"
   ]
  },
  {
   "cell_type": "code",
   "execution_count": 22,
   "id": "23ce54ca",
   "metadata": {},
   "outputs": [],
   "source": [
    "# null values in separate datasets\n",
    "\n",
    "# white = white.dropna()\n",
    "# red = red.dropna()\n",
    "\n",
    "# print(white)\n",
    "# print(red)"
   ]
  },
  {
   "cell_type": "markdown",
   "id": "eb70a658",
   "metadata": {},
   "source": [
    "# 9.Remove the outliers if any\n",
    "\n",
    "I can see some outliers using the below code"
   ]
  },
  {
   "cell_type": "code",
   "execution_count": 23,
   "id": "47e4b0f0",
   "metadata": {},
   "outputs": [
    {
     "data": {
      "text/html": [
       "<div>\n",
       "<style scoped>\n",
       "    .dataframe tbody tr th:only-of-type {\n",
       "        vertical-align: middle;\n",
       "    }\n",
       "\n",
       "    .dataframe tbody tr th {\n",
       "        vertical-align: top;\n",
       "    }\n",
       "\n",
       "    .dataframe thead th {\n",
       "        text-align: right;\n",
       "    }\n",
       "</style>\n",
       "<table border=\"1\" class=\"dataframe\">\n",
       "  <thead>\n",
       "    <tr style=\"text-align: right;\">\n",
       "      <th></th>\n",
       "      <th>fixed_acidity</th>\n",
       "      <th>volatile_acidity</th>\n",
       "      <th>citric_acid</th>\n",
       "      <th>residual_sugar</th>\n",
       "      <th>chlorides</th>\n",
       "      <th>free_sulfur_dioxide</th>\n",
       "      <th>total_sulfur_dioxide</th>\n",
       "      <th>density</th>\n",
       "      <th>pH</th>\n",
       "      <th>sulphates</th>\n",
       "      <th>alcohol</th>\n",
       "      <th>quality</th>\n",
       "    </tr>\n",
       "  </thead>\n",
       "  <tbody>\n",
       "    <tr>\n",
       "      <th>count</th>\n",
       "      <td>6497.00</td>\n",
       "      <td>6497.00</td>\n",
       "      <td>6497.00</td>\n",
       "      <td>6497.00</td>\n",
       "      <td>6497.00</td>\n",
       "      <td>6497.00</td>\n",
       "      <td>6497.00</td>\n",
       "      <td>6497.00</td>\n",
       "      <td>6497.00</td>\n",
       "      <td>6497.00</td>\n",
       "      <td>6497.00</td>\n",
       "      <td>6497.00</td>\n",
       "    </tr>\n",
       "    <tr>\n",
       "      <th>mean</th>\n",
       "      <td>7.22</td>\n",
       "      <td>0.34</td>\n",
       "      <td>0.32</td>\n",
       "      <td>5.44</td>\n",
       "      <td>0.06</td>\n",
       "      <td>30.53</td>\n",
       "      <td>115.74</td>\n",
       "      <td>0.99</td>\n",
       "      <td>3.22</td>\n",
       "      <td>0.53</td>\n",
       "      <td>10.49</td>\n",
       "      <td>5.82</td>\n",
       "    </tr>\n",
       "    <tr>\n",
       "      <th>std</th>\n",
       "      <td>1.30</td>\n",
       "      <td>0.16</td>\n",
       "      <td>0.15</td>\n",
       "      <td>4.76</td>\n",
       "      <td>0.04</td>\n",
       "      <td>17.75</td>\n",
       "      <td>56.52</td>\n",
       "      <td>0.00</td>\n",
       "      <td>0.16</td>\n",
       "      <td>0.15</td>\n",
       "      <td>1.19</td>\n",
       "      <td>0.87</td>\n",
       "    </tr>\n",
       "    <tr>\n",
       "      <th>min</th>\n",
       "      <td>3.80</td>\n",
       "      <td>0.08</td>\n",
       "      <td>0.00</td>\n",
       "      <td>0.60</td>\n",
       "      <td>0.01</td>\n",
       "      <td>1.00</td>\n",
       "      <td>6.00</td>\n",
       "      <td>0.99</td>\n",
       "      <td>2.72</td>\n",
       "      <td>0.22</td>\n",
       "      <td>8.00</td>\n",
       "      <td>3.00</td>\n",
       "    </tr>\n",
       "    <tr>\n",
       "      <th>25%</th>\n",
       "      <td>6.40</td>\n",
       "      <td>0.23</td>\n",
       "      <td>0.25</td>\n",
       "      <td>1.80</td>\n",
       "      <td>0.04</td>\n",
       "      <td>17.00</td>\n",
       "      <td>77.00</td>\n",
       "      <td>0.99</td>\n",
       "      <td>3.11</td>\n",
       "      <td>0.43</td>\n",
       "      <td>9.50</td>\n",
       "      <td>5.00</td>\n",
       "    </tr>\n",
       "    <tr>\n",
       "      <th>50%</th>\n",
       "      <td>7.00</td>\n",
       "      <td>0.29</td>\n",
       "      <td>0.31</td>\n",
       "      <td>3.00</td>\n",
       "      <td>0.05</td>\n",
       "      <td>29.00</td>\n",
       "      <td>118.00</td>\n",
       "      <td>0.99</td>\n",
       "      <td>3.21</td>\n",
       "      <td>0.51</td>\n",
       "      <td>10.30</td>\n",
       "      <td>6.00</td>\n",
       "    </tr>\n",
       "    <tr>\n",
       "      <th>75%</th>\n",
       "      <td>7.70</td>\n",
       "      <td>0.40</td>\n",
       "      <td>0.39</td>\n",
       "      <td>8.10</td>\n",
       "      <td>0.06</td>\n",
       "      <td>41.00</td>\n",
       "      <td>156.00</td>\n",
       "      <td>1.00</td>\n",
       "      <td>3.32</td>\n",
       "      <td>0.60</td>\n",
       "      <td>11.30</td>\n",
       "      <td>6.00</td>\n",
       "    </tr>\n",
       "    <tr>\n",
       "      <th>max</th>\n",
       "      <td>15.90</td>\n",
       "      <td>1.58</td>\n",
       "      <td>1.66</td>\n",
       "      <td>65.80</td>\n",
       "      <td>0.61</td>\n",
       "      <td>289.00</td>\n",
       "      <td>440.00</td>\n",
       "      <td>1.04</td>\n",
       "      <td>4.01</td>\n",
       "      <td>2.00</td>\n",
       "      <td>14.90</td>\n",
       "      <td>9.00</td>\n",
       "    </tr>\n",
       "  </tbody>\n",
       "</table>\n",
       "</div>"
      ],
      "text/plain": [
       "       fixed_acidity  volatile_acidity  citric_acid  residual_sugar  \\\n",
       "count        6497.00           6497.00      6497.00         6497.00   \n",
       "mean            7.22              0.34         0.32            5.44   \n",
       "std             1.30              0.16         0.15            4.76   \n",
       "min             3.80              0.08         0.00            0.60   \n",
       "25%             6.40              0.23         0.25            1.80   \n",
       "50%             7.00              0.29         0.31            3.00   \n",
       "75%             7.70              0.40         0.39            8.10   \n",
       "max            15.90              1.58         1.66           65.80   \n",
       "\n",
       "       chlorides  free_sulfur_dioxide  total_sulfur_dioxide  density       pH  \\\n",
       "count    6497.00              6497.00               6497.00  6497.00  6497.00   \n",
       "mean        0.06                30.53                115.74     0.99     3.22   \n",
       "std         0.04                17.75                 56.52     0.00     0.16   \n",
       "min         0.01                 1.00                  6.00     0.99     2.72   \n",
       "25%         0.04                17.00                 77.00     0.99     3.11   \n",
       "50%         0.05                29.00                118.00     0.99     3.21   \n",
       "75%         0.06                41.00                156.00     1.00     3.32   \n",
       "max         0.61               289.00                440.00     1.04     4.01   \n",
       "\n",
       "       sulphates  alcohol  quality  \n",
       "count    6497.00  6497.00  6497.00  \n",
       "mean        0.53    10.49     5.82  \n",
       "std         0.15     1.19     0.87  \n",
       "min         0.22     8.00     3.00  \n",
       "25%         0.43     9.50     5.00  \n",
       "50%         0.51    10.30     6.00  \n",
       "75%         0.60    11.30     6.00  \n",
       "max         2.00    14.90     9.00  "
      ]
     },
     "execution_count": 23,
     "metadata": {},
     "output_type": "execute_result"
    }
   ],
   "source": [
    "round(result.describe(percentiles = [0.25, 0.75]), 2)"
   ]
  },
  {
   "cell_type": "code",
   "execution_count": 24,
   "id": "13a6d20e",
   "metadata": {},
   "outputs": [],
   "source": [
    "Q1 = result.quantile(0.25)\n",
    "Q3 = result.quantile(0.75)\n",
    "\n",
    "IQR = Q3 - Q1\n",
    "\n",
    "removed_outliers_result = result[~((result < (Q1 - 1.5 * IQR)) |(result > (Q3 + 1.5 * IQR))).any(axis=1)]\n"
   ]
  },
  {
   "cell_type": "code",
   "execution_count": 25,
   "id": "2c59156c",
   "metadata": {},
   "outputs": [
    {
     "data": {
      "text/html": [
       "<div>\n",
       "<style scoped>\n",
       "    .dataframe tbody tr th:only-of-type {\n",
       "        vertical-align: middle;\n",
       "    }\n",
       "\n",
       "    .dataframe tbody tr th {\n",
       "        vertical-align: top;\n",
       "    }\n",
       "\n",
       "    .dataframe thead th {\n",
       "        text-align: right;\n",
       "    }\n",
       "</style>\n",
       "<table border=\"1\" class=\"dataframe\">\n",
       "  <thead>\n",
       "    <tr style=\"text-align: right;\">\n",
       "      <th></th>\n",
       "      <th>fixed_acidity</th>\n",
       "      <th>volatile_acidity</th>\n",
       "      <th>citric_acid</th>\n",
       "      <th>residual_sugar</th>\n",
       "      <th>chlorides</th>\n",
       "      <th>free_sulfur_dioxide</th>\n",
       "      <th>total_sulfur_dioxide</th>\n",
       "      <th>density</th>\n",
       "      <th>pH</th>\n",
       "      <th>sulphates</th>\n",
       "      <th>alcohol</th>\n",
       "      <th>quality</th>\n",
       "      <th>color</th>\n",
       "    </tr>\n",
       "  </thead>\n",
       "  <tbody>\n",
       "    <tr>\n",
       "      <th>1</th>\n",
       "      <td>6.3</td>\n",
       "      <td>0.300</td>\n",
       "      <td>0.34</td>\n",
       "      <td>1.6</td>\n",
       "      <td>0.049</td>\n",
       "      <td>14.0</td>\n",
       "      <td>132.0</td>\n",
       "      <td>0.99400</td>\n",
       "      <td>3.30</td>\n",
       "      <td>0.49</td>\n",
       "      <td>9.5</td>\n",
       "      <td>6</td>\n",
       "      <td>white</td>\n",
       "    </tr>\n",
       "    <tr>\n",
       "      <th>2</th>\n",
       "      <td>8.1</td>\n",
       "      <td>0.280</td>\n",
       "      <td>0.40</td>\n",
       "      <td>6.9</td>\n",
       "      <td>0.050</td>\n",
       "      <td>30.0</td>\n",
       "      <td>97.0</td>\n",
       "      <td>0.99510</td>\n",
       "      <td>3.26</td>\n",
       "      <td>0.44</td>\n",
       "      <td>10.1</td>\n",
       "      <td>6</td>\n",
       "      <td>white</td>\n",
       "    </tr>\n",
       "    <tr>\n",
       "      <th>3</th>\n",
       "      <td>7.2</td>\n",
       "      <td>0.230</td>\n",
       "      <td>0.32</td>\n",
       "      <td>8.5</td>\n",
       "      <td>0.058</td>\n",
       "      <td>47.0</td>\n",
       "      <td>186.0</td>\n",
       "      <td>0.99560</td>\n",
       "      <td>3.19</td>\n",
       "      <td>0.40</td>\n",
       "      <td>9.9</td>\n",
       "      <td>6</td>\n",
       "      <td>white</td>\n",
       "    </tr>\n",
       "    <tr>\n",
       "      <th>4</th>\n",
       "      <td>7.2</td>\n",
       "      <td>0.230</td>\n",
       "      <td>0.32</td>\n",
       "      <td>8.5</td>\n",
       "      <td>0.058</td>\n",
       "      <td>47.0</td>\n",
       "      <td>186.0</td>\n",
       "      <td>0.99560</td>\n",
       "      <td>3.19</td>\n",
       "      <td>0.40</td>\n",
       "      <td>9.9</td>\n",
       "      <td>6</td>\n",
       "      <td>white</td>\n",
       "    </tr>\n",
       "    <tr>\n",
       "      <th>5</th>\n",
       "      <td>8.1</td>\n",
       "      <td>0.280</td>\n",
       "      <td>0.40</td>\n",
       "      <td>6.9</td>\n",
       "      <td>0.050</td>\n",
       "      <td>30.0</td>\n",
       "      <td>97.0</td>\n",
       "      <td>0.99510</td>\n",
       "      <td>3.26</td>\n",
       "      <td>0.44</td>\n",
       "      <td>10.1</td>\n",
       "      <td>6</td>\n",
       "      <td>white</td>\n",
       "    </tr>\n",
       "    <tr>\n",
       "      <th>...</th>\n",
       "      <td>...</td>\n",
       "      <td>...</td>\n",
       "      <td>...</td>\n",
       "      <td>...</td>\n",
       "      <td>...</td>\n",
       "      <td>...</td>\n",
       "      <td>...</td>\n",
       "      <td>...</td>\n",
       "      <td>...</td>\n",
       "      <td>...</td>\n",
       "      <td>...</td>\n",
       "      <td>...</td>\n",
       "      <td>...</td>\n",
       "    </tr>\n",
       "    <tr>\n",
       "      <th>6491</th>\n",
       "      <td>6.8</td>\n",
       "      <td>0.620</td>\n",
       "      <td>0.08</td>\n",
       "      <td>1.9</td>\n",
       "      <td>0.068</td>\n",
       "      <td>28.0</td>\n",
       "      <td>38.0</td>\n",
       "      <td>0.99651</td>\n",
       "      <td>3.42</td>\n",
       "      <td>0.82</td>\n",
       "      <td>9.5</td>\n",
       "      <td>6</td>\n",
       "      <td>red</td>\n",
       "    </tr>\n",
       "    <tr>\n",
       "      <th>6492</th>\n",
       "      <td>6.2</td>\n",
       "      <td>0.600</td>\n",
       "      <td>0.08</td>\n",
       "      <td>2.0</td>\n",
       "      <td>0.090</td>\n",
       "      <td>32.0</td>\n",
       "      <td>44.0</td>\n",
       "      <td>0.99490</td>\n",
       "      <td>3.45</td>\n",
       "      <td>0.58</td>\n",
       "      <td>10.5</td>\n",
       "      <td>5</td>\n",
       "      <td>red</td>\n",
       "    </tr>\n",
       "    <tr>\n",
       "      <th>6493</th>\n",
       "      <td>5.9</td>\n",
       "      <td>0.550</td>\n",
       "      <td>0.10</td>\n",
       "      <td>2.2</td>\n",
       "      <td>0.062</td>\n",
       "      <td>39.0</td>\n",
       "      <td>51.0</td>\n",
       "      <td>0.99512</td>\n",
       "      <td>3.52</td>\n",
       "      <td>0.76</td>\n",
       "      <td>11.2</td>\n",
       "      <td>6</td>\n",
       "      <td>red</td>\n",
       "    </tr>\n",
       "    <tr>\n",
       "      <th>6494</th>\n",
       "      <td>6.3</td>\n",
       "      <td>0.510</td>\n",
       "      <td>0.13</td>\n",
       "      <td>2.3</td>\n",
       "      <td>0.076</td>\n",
       "      <td>29.0</td>\n",
       "      <td>40.0</td>\n",
       "      <td>0.99574</td>\n",
       "      <td>3.42</td>\n",
       "      <td>0.75</td>\n",
       "      <td>11.0</td>\n",
       "      <td>6</td>\n",
       "      <td>red</td>\n",
       "    </tr>\n",
       "    <tr>\n",
       "      <th>6495</th>\n",
       "      <td>5.9</td>\n",
       "      <td>0.645</td>\n",
       "      <td>0.12</td>\n",
       "      <td>2.0</td>\n",
       "      <td>0.075</td>\n",
       "      <td>32.0</td>\n",
       "      <td>44.0</td>\n",
       "      <td>0.99547</td>\n",
       "      <td>3.57</td>\n",
       "      <td>0.71</td>\n",
       "      <td>10.2</td>\n",
       "      <td>5</td>\n",
       "      <td>red</td>\n",
       "    </tr>\n",
       "  </tbody>\n",
       "</table>\n",
       "<p>4839 rows × 13 columns</p>\n",
       "</div>"
      ],
      "text/plain": [
       "      fixed_acidity  volatile_acidity  citric_acid  residual_sugar  chlorides  \\\n",
       "1               6.3             0.300         0.34             1.6      0.049   \n",
       "2               8.1             0.280         0.40             6.9      0.050   \n",
       "3               7.2             0.230         0.32             8.5      0.058   \n",
       "4               7.2             0.230         0.32             8.5      0.058   \n",
       "5               8.1             0.280         0.40             6.9      0.050   \n",
       "...             ...               ...          ...             ...        ...   \n",
       "6491            6.8             0.620         0.08             1.9      0.068   \n",
       "6492            6.2             0.600         0.08             2.0      0.090   \n",
       "6493            5.9             0.550         0.10             2.2      0.062   \n",
       "6494            6.3             0.510         0.13             2.3      0.076   \n",
       "6495            5.9             0.645         0.12             2.0      0.075   \n",
       "\n",
       "      free_sulfur_dioxide  total_sulfur_dioxide  density    pH  sulphates  \\\n",
       "1                    14.0                 132.0  0.99400  3.30       0.49   \n",
       "2                    30.0                  97.0  0.99510  3.26       0.44   \n",
       "3                    47.0                 186.0  0.99560  3.19       0.40   \n",
       "4                    47.0                 186.0  0.99560  3.19       0.40   \n",
       "5                    30.0                  97.0  0.99510  3.26       0.44   \n",
       "...                   ...                   ...      ...   ...        ...   \n",
       "6491                 28.0                  38.0  0.99651  3.42       0.82   \n",
       "6492                 32.0                  44.0  0.99490  3.45       0.58   \n",
       "6493                 39.0                  51.0  0.99512  3.52       0.76   \n",
       "6494                 29.0                  40.0  0.99574  3.42       0.75   \n",
       "6495                 32.0                  44.0  0.99547  3.57       0.71   \n",
       "\n",
       "      alcohol  quality  color  \n",
       "1         9.5        6  white  \n",
       "2        10.1        6  white  \n",
       "3         9.9        6  white  \n",
       "4         9.9        6  white  \n",
       "5        10.1        6  white  \n",
       "...       ...      ...    ...  \n",
       "6491      9.5        6    red  \n",
       "6492     10.5        5    red  \n",
       "6493     11.2        6    red  \n",
       "6494     11.0        6    red  \n",
       "6495     10.2        5    red  \n",
       "\n",
       "[4839 rows x 13 columns]"
      ]
     },
     "execution_count": 25,
     "metadata": {},
     "output_type": "execute_result"
    }
   ],
   "source": [
    "removed_outliers_result.head(-1)"
   ]
  },
  {
   "cell_type": "markdown",
   "id": "e779c2cd",
   "metadata": {},
   "source": [
    "# 10.Do wines with higher alcohol content receive better ratings?\n"
   ]
  },
  {
   "cell_type": "code",
   "execution_count": 26,
   "id": "356a60b2",
   "metadata": {},
   "outputs": [
    {
     "data": {
      "text/plain": [
       "10.3"
      ]
     },
     "execution_count": 26,
     "metadata": {},
     "output_type": "execute_result"
    }
   ],
   "source": [
    "result['alcohol'].median()"
   ]
  },
  {
   "cell_type": "code",
   "execution_count": 27,
   "id": "2ac8da8d",
   "metadata": {},
   "outputs": [],
   "source": [
    "low_alcohol = result.query('alcohol < 10.3')\n",
    "high_alcohol = result.query('alcohol >= 10.3')"
   ]
  },
  {
   "cell_type": "code",
   "execution_count": 28,
   "id": "a5a27867",
   "metadata": {},
   "outputs": [
    {
     "data": {
      "text/plain": [
       "(3177, 13)"
      ]
     },
     "execution_count": 28,
     "metadata": {},
     "output_type": "execute_result"
    }
   ],
   "source": [
    "low_alcohol.shape"
   ]
  },
  {
   "cell_type": "code",
   "execution_count": 29,
   "id": "362d5419",
   "metadata": {},
   "outputs": [
    {
     "data": {
      "text/plain": [
       "(3320, 13)"
      ]
     },
     "execution_count": 29,
     "metadata": {},
     "output_type": "execute_result"
    }
   ],
   "source": [
    "high_alcohol.shape"
   ]
  },
  {
   "cell_type": "code",
   "execution_count": 30,
   "id": "5755dd70",
   "metadata": {},
   "outputs": [],
   "source": [
    "num_samples = result.shape[0]"
   ]
  },
  {
   "cell_type": "code",
   "execution_count": 31,
   "id": "c0d42f9e",
   "metadata": {},
   "outputs": [
    {
     "data": {
      "text/plain": [
       "6497"
      ]
     },
     "execution_count": 31,
     "metadata": {},
     "output_type": "execute_result"
    }
   ],
   "source": [
    "num_samples\n",
    "\n",
    "# By addinng the above row values you will get 6497"
   ]
  },
  {
   "cell_type": "code",
   "execution_count": 32,
   "id": "8d794a6d",
   "metadata": {},
   "outputs": [
    {
     "data": {
      "text/plain": [
       "True"
      ]
     },
     "execution_count": 32,
     "metadata": {},
     "output_type": "execute_result"
    }
   ],
   "source": [
    "num_samples == low_alcohol['quality'].count() + high_alcohol['quality'].count()"
   ]
  },
  {
   "cell_type": "code",
   "execution_count": 33,
   "id": "e7deaadd",
   "metadata": {},
   "outputs": [
    {
     "data": {
      "text/plain": [
       "Text(0, 0.5, 'Average Quality Rating')"
      ]
     },
     "execution_count": 33,
     "metadata": {},
     "output_type": "execute_result"
    },
    {
     "data": {
      "image/png": "[encoded data removed]",
      "text/plain": [
       "<Figure size 640x480 with 1 Axes>"
      ]
     },
     "metadata": {},
     "output_type": "display_data"
    }
   ],
   "source": [
    "a_median = result['alcohol'].median()\n",
    "\n",
    "a_low = result.query('alcohol < {}'.format(a_median))\n",
    "a_high = result.query('alcohol >= {}'.format(a_median))\n",
    "\n",
    "mean_qual_low = a_low['quality'].mean()\n",
    "mean_qual_high = a_high['quality'].mean()\n",
    "\n",
    "rangeis = [1, 2]\n",
    "heights = [mean_qual_low, mean_qual_high]\n",
    "labels = ['Low', 'High']\n",
    "plt.bar(rangeis, heights, tick_label=labels)\n",
    "\n",
    "plt.title('Average Quality Ratings by Alcohol Content')\n",
    "plt.xlabel('Alcohol Content')\n",
    "plt.ylabel('Average Quality Rating')"
   ]
  },
  {
   "cell_type": "markdown",
   "id": "33ea1d95",
   "metadata": {},
   "source": [
    "### From the above bat-plot there is slight difference in Low & High alcohol content. So the rating won't depend on the content of alcohol."
   ]
  },
  {
   "cell_type": "markdown",
   "id": "6a5313c9",
   "metadata": {},
   "source": [
    "# 11.Find correlation between citric acid content and PH."
   ]
  },
  {
   "cell_type": "code",
   "execution_count": 34,
   "id": "b420682b",
   "metadata": {},
   "outputs": [
    {
     "name": "stdout",
     "output_type": "stream",
     "text": [
      "Correlation between citric acid content and pH :  -0.3298081911317221\n"
     ]
    }
   ],
   "source": [
    "correlation = result['citric_acid'].corr(result['pH'])\n",
    "print('Correlation between citric acid content and pH : ', correlation)\n",
    "plt.show()"
   ]
  },
  {
   "cell_type": "code",
   "execution_count": 35,
   "id": "043e540d",
   "metadata": {},
   "outputs": [
    {
     "data": {
      "image/png": "[encoded data removed]",
      "text/plain": [
       "<Figure size 640x480 with 2 Axes>"
      ]
     },
     "metadata": {},
     "output_type": "display_data"
    }
   ],
   "source": [
    "corr_matrix = result[['citric_acid', 'pH']].corr()\n",
    "\n",
    "# Plot the correlation matrix using seaborn's heatmap\n",
    "sns.heatmap(corr_matrix, annot=True)\n",
    "plt.title('Correlation between citric acid content and pH')\n",
    "plt.show()"
   ]
  },
  {
   "cell_type": "markdown",
   "id": "c52faea4",
   "metadata": {},
   "source": [
    "# 12.Find regression of PH on citric acid"
   ]
  },
  {
   "cell_type": "code",
   "execution_count": 36,
   "id": "a5f1114f",
   "metadata": {},
   "outputs": [
    {
     "data": {
      "image/png": "[encoded data removed]",
      "text/plain": [
       "<Figure size 640x480 with 1 Axes>"
      ]
     },
     "metadata": {},
     "output_type": "display_data"
    }
   ],
   "source": [
    "from sklearn.linear_model import LinearRegression\n",
    "\n",
    "plt.scatter(result['citric_acid'], result['pH'])\n",
    "plt.xlabel('Citric Acid Content')\n",
    "plt.ylabel('pH')\n",
    "plt.title('Regression of PH on citric acid')\n",
    "\n",
    "X = result[['citric_acid']]\n",
    "y = result[['pH']]\n",
    "          \n",
    "model = LinearRegression()\n",
    "model.fit(X,y)\n",
    "\n",
    "slope = model.coef_\n",
    "intercept = model.intercept_\n",
    "\n",
    "x = np.linspace(result['citric_acid'].min(), result['citric_acid'].max())\n",
    "y = slope*x + intercept\n",
    "y = y.ravel()  # or use y.flatten()\n",
    "plt.plot(x, y, '-r')\n",
    "plt.show()"
   ]
  },
  {
   "cell_type": "markdown",
   "id": "a8dd7f52",
   "metadata": {},
   "source": [
    "# 13. Find how many variables are independent."
   ]
  },
  {
   "cell_type": "code",
   "execution_count": 37,
   "id": "982bc64d",
   "metadata": {},
   "outputs": [
    {
     "name": "stdout",
     "output_type": "stream",
     "text": [
      "Number of independent variables:  12\n"
     ]
    }
   ],
   "source": [
    "num_ind = result.shape[1] - 1\n",
    "print(\"Number of independent variables: \", num_ind)"
   ]
  },
  {
   "cell_type": "code",
   "execution_count": 38,
   "id": "76b40c93",
   "metadata": {},
   "outputs": [
    {
     "name": "stdout",
     "output_type": "stream",
     "text": [
      "                      fixed_acidity  volatile_acidity  citric_acid  \\\n",
      "fixed_acidity              1.000000          0.219008     0.324436   \n",
      "volatile_acidity           0.219008          1.000000    -0.377981   \n",
      "citric_acid                0.324436         -0.377981     1.000000   \n",
      "residual_sugar            -0.111981         -0.196011     0.142451   \n",
      "chlorides                  0.298195          0.377124     0.038998   \n",
      "free_sulfur_dioxide       -0.282735         -0.352557     0.133126   \n",
      "total_sulfur_dioxide      -0.329054         -0.414476     0.195242   \n",
      "density                    0.458910          0.271296     0.096154   \n",
      "pH                        -0.252700          0.261454    -0.329808   \n",
      "sulphates                  0.299568          0.225984     0.056197   \n",
      "alcohol                   -0.095452         -0.037640    -0.010493   \n",
      "quality                   -0.076743         -0.265699     0.085532   \n",
      "\n",
      "                      residual_sugar  chlorides  free_sulfur_dioxide  \\\n",
      "fixed_acidity              -0.111981   0.298195            -0.282735   \n",
      "volatile_acidity           -0.196011   0.377124            -0.352557   \n",
      "citric_acid                 0.142451   0.038998             0.133126   \n",
      "residual_sugar              1.000000  -0.128940             0.402871   \n",
      "chlorides                  -0.128940   1.000000            -0.195045   \n",
      "free_sulfur_dioxide         0.402871  -0.195045             1.000000   \n",
      "total_sulfur_dioxide        0.495482  -0.279630             0.720934   \n",
      "density                     0.552517   0.362615             0.025717   \n",
      "pH                         -0.267320   0.044708            -0.145854   \n",
      "sulphates                  -0.185927   0.395593            -0.188457   \n",
      "alcohol                    -0.359415  -0.256916            -0.179838   \n",
      "quality                    -0.036980  -0.200666             0.055463   \n",
      "\n",
      "                      total_sulfur_dioxide   density        pH  sulphates  \\\n",
      "fixed_acidity                    -0.329054  0.458910 -0.252700   0.299568   \n",
      "volatile_acidity                 -0.414476  0.271296  0.261454   0.225984   \n",
      "citric_acid                       0.195242  0.096154 -0.329808   0.056197   \n",
      "residual_sugar                    0.495482  0.552517 -0.267320  -0.185927   \n",
      "chlorides                        -0.279630  0.362615  0.044708   0.395593   \n",
      "free_sulfur_dioxide               0.720934  0.025717 -0.145854  -0.188457   \n",
      "total_sulfur_dioxide              1.000000  0.032395 -0.238413  -0.275727   \n",
      "density                           0.032395  1.000000  0.011686   0.259478   \n",
      "pH                               -0.238413  0.011686  1.000000   0.192123   \n",
      "sulphates                        -0.275727  0.259478  0.192123   1.000000   \n",
      "alcohol                          -0.265740 -0.686745  0.121248  -0.003029   \n",
      "quality                          -0.041385 -0.305858  0.019506   0.038485   \n",
      "\n",
      "                       alcohol   quality  \n",
      "fixed_acidity        -0.095452 -0.076743  \n",
      "volatile_acidity     -0.037640 -0.265699  \n",
      "citric_acid          -0.010493  0.085532  \n",
      "residual_sugar       -0.359415 -0.036980  \n",
      "chlorides            -0.256916 -0.200666  \n",
      "free_sulfur_dioxide  -0.179838  0.055463  \n",
      "total_sulfur_dioxide -0.265740 -0.041385  \n",
      "density              -0.686745 -0.305858  \n",
      "pH                    0.121248  0.019506  \n",
      "sulphates            -0.003029  0.038485  \n",
      "alcohol               1.000000  0.444319  \n",
      "quality               0.444319  1.000000  \n",
      "[]\n"
     ]
    }
   ],
   "source": [
    "corr_matrix = result.corr()\n",
    "\n",
    "# Print the correlation matrix\n",
    "print(corr_matrix)\n",
    "\n",
    "# Identify dependent variables\n",
    "dependent_vars = []\n",
    "threshold = 0.8\n",
    "for column in corr_matrix:\n",
    "    for index in corr_matrix.index:\n",
    "        if column != index and abs(corr_matrix[column][index]) > threshold:\n",
    "            dependent_vars.append((column, index))\n",
    "\n",
    "# Print the dependent variables\n",
    "print(dependent_vars)\n",
    "\n",
    "# Identify independent variables\n",
    "all_vars = result.columns.tolist()\n",
    "independent_vars = [var for var in all_vars if var not in dependent_vars]"
   ]
  },
  {
   "cell_type": "code",
   "execution_count": 39,
   "id": "e6d37207",
   "metadata": {},
   "outputs": [
    {
     "name": "stdout",
     "output_type": "stream",
     "text": [
      "['fixed_acidity', 'volatile_acidity', 'citric_acid', 'residual_sugar', 'chlorides', 'free_sulfur_dioxide', 'total_sulfur_dioxide', 'density', 'pH', 'sulphates', 'alcohol', 'quality', 'color']\n"
     ]
    }
   ],
   "source": [
    "print(independent_vars)\n"
   ]
  },
  {
   "cell_type": "markdown",
   "id": "7367bd0f",
   "metadata": {},
   "source": [
    "## 14.Create a new column as the acidity level. Divide the existing data into 5 groups based on the acidity level. The levels are to be named ['High', 'Moderately_High', 'Medium', 'Low']. Acidity may be obtained from the PH.\n",
    "\n"
   ]
  },
  {
   "cell_type": "code",
   "execution_count": 40,
   "id": "59bdb210",
   "metadata": {},
   "outputs": [
    {
     "data": {
      "text/plain": [
       "count    6497.000000\n",
       "mean        3.218501\n",
       "std         0.160787\n",
       "min         2.720000\n",
       "25%         3.110000\n",
       "50%         3.210000\n",
       "75%         3.320000\n",
       "max         4.010000\n",
       "Name: pH, dtype: float64"
      ]
     },
     "execution_count": 40,
     "metadata": {},
     "output_type": "execute_result"
    }
   ],
   "source": [
    "result['pH'].describe()"
   ]
  },
  {
   "cell_type": "code",
   "execution_count": 41,
   "id": "21f1f218",
   "metadata": {},
   "outputs": [],
   "source": [
    "bin_edges = [2.72,3.11,3.21,3.32,4.01] \n",
    "bin_names = ['High','Moderately_High','Medium','Low'] \n",
    "result['acidity_levels'] = pd.cut(result['pH'], bin_edges, labels = bin_names)\n"
   ]
  },
  {
   "cell_type": "code",
   "execution_count": 42,
   "id": "1ecc6507",
   "metadata": {},
   "outputs": [],
   "source": [
    "levels = result.groupby('acidity_levels')['quality'].mean()\n",
    "mean_qual_low =levels[3]\n",
    "mean_qual_medium = levels[2]\n",
    "mean_qual_high = levels[1]\n",
    "mean_qual_veryhigh = levels[0]"
   ]
  },
  {
   "cell_type": "code",
   "execution_count": 43,
   "id": "37ab91b9",
   "metadata": {},
   "outputs": [
    {
     "data": {
      "text/plain": [
       "<BarContainer object of 4 artists>"
      ]
     },
     "execution_count": 43,
     "metadata": {},
     "output_type": "execute_result"
    },
    {
     "data": {
      "image/png": "[encoded data removed]",
      "text/plain": [
       "<Figure size 640x480 with 1 Axes>"
      ]
     },
     "metadata": {},
     "output_type": "display_data"
    }
   ],
   "source": [
    "rangeis = [1, 2, 3, 4]\n",
    "heights = [mean_qual_low, mean_qual_medium, mean_qual_high, mean_qual_veryhigh]\n",
    "labels = ['Low','Medium','Moderately_High','High']\n",
    "\n",
    "plt.title('Average Quality Ratings by Acidity level')\n",
    "plt.xlabel('Acidity level')\n",
    "plt.ylabel('Average Quality Rating')\n",
    "plt.bar(rangeis, heights, tick_label=labels)\n"
   ]
  },
  {
   "cell_type": "code",
   "execution_count": 44,
   "id": "c0dffa31",
   "metadata": {},
   "outputs": [
    {
     "data": {
      "text/html": [
       "<div>\n",
       "<style scoped>\n",
       "    .dataframe tbody tr th:only-of-type {\n",
       "        vertical-align: middle;\n",
       "    }\n",
       "\n",
       "    .dataframe tbody tr th {\n",
       "        vertical-align: top;\n",
       "    }\n",
       "\n",
       "    .dataframe thead th {\n",
       "        text-align: right;\n",
       "    }\n",
       "</style>\n",
       "<table border=\"1\" class=\"dataframe\">\n",
       "  <thead>\n",
       "    <tr style=\"text-align: right;\">\n",
       "      <th></th>\n",
       "      <th>fixed_acidity</th>\n",
       "      <th>volatile_acidity</th>\n",
       "      <th>citric_acid</th>\n",
       "      <th>residual_sugar</th>\n",
       "      <th>chlorides</th>\n",
       "      <th>free_sulfur_dioxide</th>\n",
       "      <th>total_sulfur_dioxide</th>\n",
       "      <th>density</th>\n",
       "      <th>pH</th>\n",
       "      <th>sulphates</th>\n",
       "      <th>alcohol</th>\n",
       "      <th>quality</th>\n",
       "      <th>color</th>\n",
       "      <th>acidity_levels</th>\n",
       "    </tr>\n",
       "  </thead>\n",
       "  <tbody>\n",
       "    <tr>\n",
       "      <th>0</th>\n",
       "      <td>7.0</td>\n",
       "      <td>0.270</td>\n",
       "      <td>0.36</td>\n",
       "      <td>20.7</td>\n",
       "      <td>0.045</td>\n",
       "      <td>45.0</td>\n",
       "      <td>170.0</td>\n",
       "      <td>1.00100</td>\n",
       "      <td>3.00</td>\n",
       "      <td>0.45</td>\n",
       "      <td>8.8</td>\n",
       "      <td>6</td>\n",
       "      <td>white</td>\n",
       "      <td>High</td>\n",
       "    </tr>\n",
       "    <tr>\n",
       "      <th>1</th>\n",
       "      <td>6.3</td>\n",
       "      <td>0.300</td>\n",
       "      <td>0.34</td>\n",
       "      <td>1.6</td>\n",
       "      <td>0.049</td>\n",
       "      <td>14.0</td>\n",
       "      <td>132.0</td>\n",
       "      <td>0.99400</td>\n",
       "      <td>3.30</td>\n",
       "      <td>0.49</td>\n",
       "      <td>9.5</td>\n",
       "      <td>6</td>\n",
       "      <td>white</td>\n",
       "      <td>Medium</td>\n",
       "    </tr>\n",
       "    <tr>\n",
       "      <th>2</th>\n",
       "      <td>8.1</td>\n",
       "      <td>0.280</td>\n",
       "      <td>0.40</td>\n",
       "      <td>6.9</td>\n",
       "      <td>0.050</td>\n",
       "      <td>30.0</td>\n",
       "      <td>97.0</td>\n",
       "      <td>0.99510</td>\n",
       "      <td>3.26</td>\n",
       "      <td>0.44</td>\n",
       "      <td>10.1</td>\n",
       "      <td>6</td>\n",
       "      <td>white</td>\n",
       "      <td>Medium</td>\n",
       "    </tr>\n",
       "    <tr>\n",
       "      <th>3</th>\n",
       "      <td>7.2</td>\n",
       "      <td>0.230</td>\n",
       "      <td>0.32</td>\n",
       "      <td>8.5</td>\n",
       "      <td>0.058</td>\n",
       "      <td>47.0</td>\n",
       "      <td>186.0</td>\n",
       "      <td>0.99560</td>\n",
       "      <td>3.19</td>\n",
       "      <td>0.40</td>\n",
       "      <td>9.9</td>\n",
       "      <td>6</td>\n",
       "      <td>white</td>\n",
       "      <td>Moderately_High</td>\n",
       "    </tr>\n",
       "    <tr>\n",
       "      <th>4</th>\n",
       "      <td>7.2</td>\n",
       "      <td>0.230</td>\n",
       "      <td>0.32</td>\n",
       "      <td>8.5</td>\n",
       "      <td>0.058</td>\n",
       "      <td>47.0</td>\n",
       "      <td>186.0</td>\n",
       "      <td>0.99560</td>\n",
       "      <td>3.19</td>\n",
       "      <td>0.40</td>\n",
       "      <td>9.9</td>\n",
       "      <td>6</td>\n",
       "      <td>white</td>\n",
       "      <td>Moderately_High</td>\n",
       "    </tr>\n",
       "    <tr>\n",
       "      <th>...</th>\n",
       "      <td>...</td>\n",
       "      <td>...</td>\n",
       "      <td>...</td>\n",
       "      <td>...</td>\n",
       "      <td>...</td>\n",
       "      <td>...</td>\n",
       "      <td>...</td>\n",
       "      <td>...</td>\n",
       "      <td>...</td>\n",
       "      <td>...</td>\n",
       "      <td>...</td>\n",
       "      <td>...</td>\n",
       "      <td>...</td>\n",
       "      <td>...</td>\n",
       "    </tr>\n",
       "    <tr>\n",
       "      <th>6491</th>\n",
       "      <td>6.8</td>\n",
       "      <td>0.620</td>\n",
       "      <td>0.08</td>\n",
       "      <td>1.9</td>\n",
       "      <td>0.068</td>\n",
       "      <td>28.0</td>\n",
       "      <td>38.0</td>\n",
       "      <td>0.99651</td>\n",
       "      <td>3.42</td>\n",
       "      <td>0.82</td>\n",
       "      <td>9.5</td>\n",
       "      <td>6</td>\n",
       "      <td>red</td>\n",
       "      <td>Low</td>\n",
       "    </tr>\n",
       "    <tr>\n",
       "      <th>6492</th>\n",
       "      <td>6.2</td>\n",
       "      <td>0.600</td>\n",
       "      <td>0.08</td>\n",
       "      <td>2.0</td>\n",
       "      <td>0.090</td>\n",
       "      <td>32.0</td>\n",
       "      <td>44.0</td>\n",
       "      <td>0.99490</td>\n",
       "      <td>3.45</td>\n",
       "      <td>0.58</td>\n",
       "      <td>10.5</td>\n",
       "      <td>5</td>\n",
       "      <td>red</td>\n",
       "      <td>Low</td>\n",
       "    </tr>\n",
       "    <tr>\n",
       "      <th>6493</th>\n",
       "      <td>5.9</td>\n",
       "      <td>0.550</td>\n",
       "      <td>0.10</td>\n",
       "      <td>2.2</td>\n",
       "      <td>0.062</td>\n",
       "      <td>39.0</td>\n",
       "      <td>51.0</td>\n",
       "      <td>0.99512</td>\n",
       "      <td>3.52</td>\n",
       "      <td>0.76</td>\n",
       "      <td>11.2</td>\n",
       "      <td>6</td>\n",
       "      <td>red</td>\n",
       "      <td>Low</td>\n",
       "    </tr>\n",
       "    <tr>\n",
       "      <th>6494</th>\n",
       "      <td>6.3</td>\n",
       "      <td>0.510</td>\n",
       "      <td>0.13</td>\n",
       "      <td>2.3</td>\n",
       "      <td>0.076</td>\n",
       "      <td>29.0</td>\n",
       "      <td>40.0</td>\n",
       "      <td>0.99574</td>\n",
       "      <td>3.42</td>\n",
       "      <td>0.75</td>\n",
       "      <td>11.0</td>\n",
       "      <td>6</td>\n",
       "      <td>red</td>\n",
       "      <td>Low</td>\n",
       "    </tr>\n",
       "    <tr>\n",
       "      <th>6495</th>\n",
       "      <td>5.9</td>\n",
       "      <td>0.645</td>\n",
       "      <td>0.12</td>\n",
       "      <td>2.0</td>\n",
       "      <td>0.075</td>\n",
       "      <td>32.0</td>\n",
       "      <td>44.0</td>\n",
       "      <td>0.99547</td>\n",
       "      <td>3.57</td>\n",
       "      <td>0.71</td>\n",
       "      <td>10.2</td>\n",
       "      <td>5</td>\n",
       "      <td>red</td>\n",
       "      <td>Low</td>\n",
       "    </tr>\n",
       "  </tbody>\n",
       "</table>\n",
       "<p>6496 rows × 14 columns</p>\n",
       "</div>"
      ],
      "text/plain": [
       "      fixed_acidity  volatile_acidity  citric_acid  residual_sugar  chlorides  \\\n",
       "0               7.0             0.270         0.36            20.7      0.045   \n",
       "1               6.3             0.300         0.34             1.6      0.049   \n",
       "2               8.1             0.280         0.40             6.9      0.050   \n",
       "3               7.2             0.230         0.32             8.5      0.058   \n",
       "4               7.2             0.230         0.32             8.5      0.058   \n",
       "...             ...               ...          ...             ...        ...   \n",
       "6491            6.8             0.620         0.08             1.9      0.068   \n",
       "6492            6.2             0.600         0.08             2.0      0.090   \n",
       "6493            5.9             0.550         0.10             2.2      0.062   \n",
       "6494            6.3             0.510         0.13             2.3      0.076   \n",
       "6495            5.9             0.645         0.12             2.0      0.075   \n",
       "\n",
       "      free_sulfur_dioxide  total_sulfur_dioxide  density    pH  sulphates  \\\n",
       "0                    45.0                 170.0  1.00100  3.00       0.45   \n",
       "1                    14.0                 132.0  0.99400  3.30       0.49   \n",
       "2                    30.0                  97.0  0.99510  3.26       0.44   \n",
       "3                    47.0                 186.0  0.99560  3.19       0.40   \n",
       "4                    47.0                 186.0  0.99560  3.19       0.40   \n",
       "...                   ...                   ...      ...   ...        ...   \n",
       "6491                 28.0                  38.0  0.99651  3.42       0.82   \n",
       "6492                 32.0                  44.0  0.99490  3.45       0.58   \n",
       "6493                 39.0                  51.0  0.99512  3.52       0.76   \n",
       "6494                 29.0                  40.0  0.99574  3.42       0.75   \n",
       "6495                 32.0                  44.0  0.99547  3.57       0.71   \n",
       "\n",
       "      alcohol  quality  color   acidity_levels  \n",
       "0         8.8        6  white             High  \n",
       "1         9.5        6  white           Medium  \n",
       "2        10.1        6  white           Medium  \n",
       "3         9.9        6  white  Moderately_High  \n",
       "4         9.9        6  white  Moderately_High  \n",
       "...       ...      ...    ...              ...  \n",
       "6491      9.5        6    red              Low  \n",
       "6492     10.5        5    red              Low  \n",
       "6493     11.2        6    red              Low  \n",
       "6494     11.0        6    red              Low  \n",
       "6495     10.2        5    red              Low  \n",
       "\n",
       "[6496 rows x 14 columns]"
      ]
     },
     "execution_count": 44,
     "metadata": {},
     "output_type": "execute_result"
    }
   ],
   "source": [
    "result.head(-1)"
   ]
  },
  {
   "cell_type": "code",
   "execution_count": 45,
   "id": "adfd1fd5",
   "metadata": {},
   "outputs": [
    {
     "data": {
      "text/plain": [
       "High               1717\n",
       "Moderately_High    1643\n",
       "Low                1574\n",
       "Medium             1562\n",
       "Name: acidity_levels, dtype: int64"
      ]
     },
     "execution_count": 45,
     "metadata": {},
     "output_type": "execute_result"
    }
   ],
   "source": [
    "result['acidity_levels'].value_counts()"
   ]
  },
  {
   "cell_type": "markdown",
   "id": "93dc53fd",
   "metadata": {},
   "source": [
    "# 15.Find the mean quality of each acidity level with groupby. Use groupby"
   ]
  },
  {
   "cell_type": "code",
   "execution_count": 46,
   "id": "4664f0a9",
   "metadata": {},
   "outputs": [
    {
     "data": {
      "text/plain": [
       "acidity_levels\n",
       "High               5.783343\n",
       "Moderately_High    5.784540\n",
       "Medium             5.850832\n",
       "Low                5.859593\n",
       "Name: quality, dtype: float64"
      ]
     },
     "execution_count": 46,
     "metadata": {},
     "output_type": "execute_result"
    }
   ],
   "source": [
    "result.groupby('acidity_levels')['quality'].mean()\n",
    "#result.groupby('quality').mean()"
   ]
  },
  {
   "cell_type": "markdown",
   "id": "dba56f54",
   "metadata": {},
   "source": [
    "# 16.Is a certain type of wine (red or white) associated with higher quality?"
   ]
  },
  {
   "cell_type": "code",
   "execution_count": 47,
   "id": "ba4337a1",
   "metadata": {},
   "outputs": [
    {
     "data": {
      "text/html": [
       "<div>\n",
       "<style scoped>\n",
       "    .dataframe tbody tr th:only-of-type {\n",
       "        vertical-align: middle;\n",
       "    }\n",
       "\n",
       "    .dataframe tbody tr th {\n",
       "        vertical-align: top;\n",
       "    }\n",
       "\n",
       "    .dataframe thead th {\n",
       "        text-align: right;\n",
       "    }\n",
       "</style>\n",
       "<table border=\"1\" class=\"dataframe\">\n",
       "  <thead>\n",
       "    <tr style=\"text-align: right;\">\n",
       "      <th></th>\n",
       "      <th>fixed_acidity</th>\n",
       "      <th>volatile_acidity</th>\n",
       "      <th>citric_acid</th>\n",
       "      <th>residual_sugar</th>\n",
       "      <th>chlorides</th>\n",
       "      <th>free_sulfur_dioxide</th>\n",
       "      <th>total_sulfur_dioxide</th>\n",
       "      <th>density</th>\n",
       "      <th>pH</th>\n",
       "      <th>sulphates</th>\n",
       "      <th>alcohol</th>\n",
       "      <th>quality</th>\n",
       "    </tr>\n",
       "    <tr>\n",
       "      <th>color</th>\n",
       "      <th></th>\n",
       "      <th></th>\n",
       "      <th></th>\n",
       "      <th></th>\n",
       "      <th></th>\n",
       "      <th></th>\n",
       "      <th></th>\n",
       "      <th></th>\n",
       "      <th></th>\n",
       "      <th></th>\n",
       "      <th></th>\n",
       "      <th></th>\n",
       "    </tr>\n",
       "  </thead>\n",
       "  <tbody>\n",
       "    <tr>\n",
       "      <th>red</th>\n",
       "      <td>8.319637</td>\n",
       "      <td>0.527821</td>\n",
       "      <td>0.270976</td>\n",
       "      <td>2.538806</td>\n",
       "      <td>0.087467</td>\n",
       "      <td>15.874922</td>\n",
       "      <td>46.467792</td>\n",
       "      <td>0.996747</td>\n",
       "      <td>3.311113</td>\n",
       "      <td>0.658149</td>\n",
       "      <td>10.422983</td>\n",
       "      <td>5.636023</td>\n",
       "    </tr>\n",
       "    <tr>\n",
       "      <th>white</th>\n",
       "      <td>6.854788</td>\n",
       "      <td>0.278241</td>\n",
       "      <td>0.334192</td>\n",
       "      <td>6.391415</td>\n",
       "      <td>0.045772</td>\n",
       "      <td>35.308085</td>\n",
       "      <td>138.360657</td>\n",
       "      <td>0.994027</td>\n",
       "      <td>3.188267</td>\n",
       "      <td>0.489847</td>\n",
       "      <td>10.514267</td>\n",
       "      <td>5.877909</td>\n",
       "    </tr>\n",
       "  </tbody>\n",
       "</table>\n",
       "</div>"
      ],
      "text/plain": [
       "       fixed_acidity  volatile_acidity  citric_acid  residual_sugar  \\\n",
       "color                                                                 \n",
       "red         8.319637          0.527821     0.270976        2.538806   \n",
       "white       6.854788          0.278241     0.334192        6.391415   \n",
       "\n",
       "       chlorides  free_sulfur_dioxide  total_sulfur_dioxide   density  \\\n",
       "color                                                                   \n",
       "red     0.087467            15.874922             46.467792  0.996747   \n",
       "white   0.045772            35.308085            138.360657  0.994027   \n",
       "\n",
       "             pH  sulphates    alcohol   quality  \n",
       "color                                            \n",
       "red    3.311113   0.658149  10.422983  5.636023  \n",
       "white  3.188267   0.489847  10.514267  5.877909  "
      ]
     },
     "execution_count": 47,
     "metadata": {},
     "output_type": "execute_result"
    }
   ],
   "source": [
    "result.groupby('color').mean()"
   ]
  },
  {
   "cell_type": "code",
   "execution_count": 48,
   "id": "403cbe56",
   "metadata": {},
   "outputs": [
    {
     "data": {
      "text/plain": [
       "<AxesSubplot: title={'center': 'Avg Quality by Color'}, xlabel='color', ylabel='Quality'>"
      ]
     },
     "execution_count": 48,
     "metadata": {},
     "output_type": "execute_result"
    },
    {
     "data": {
      "image/png": "[encoded data removed]",
      "text/plain": [
       "<Figure size 640x480 with 1 Axes>"
      ]
     },
     "metadata": {},
     "output_type": "display_data"
    }
   ],
   "source": [
    "color_means = result.groupby('color')['quality'].mean()\n",
    "\n",
    "colors=['red', 'white'] \n",
    "color_means.plot(kind='bar', title='Avg Quality by Color', color = colors) #from the pd-plot\n",
    "\n",
    "plt.xlabel('Colors', fontsize=18) #from the plt-plot\n",
    "plt.ylabel('Quality', fontsize=18)\n",
    "\n",
    "result.groupby('color')['quality'].mean().plot(kind='bar', title='Avg Quality by Color', color = ['red', 'blue'] , alpha=0.7)\n"
   ]
  },
  {
   "cell_type": "markdown",
   "id": "3869af1f",
   "metadata": {},
   "source": [
    "# 17.Select samples with alcohol content less than the median\n"
   ]
  },
  {
   "cell_type": "code",
   "execution_count": 49,
   "id": "3f2bbb2e",
   "metadata": {},
   "outputs": [
    {
     "data": {
      "text/plain": [
       "False    3320\n",
       "True     3177\n",
       "Name: alcohol, dtype: int64"
      ]
     },
     "execution_count": 49,
     "metadata": {},
     "output_type": "execute_result"
    }
   ],
   "source": [
    "less_than_median = result['alcohol'] < 10.3\n",
    "less_than_median.value_counts()\n",
    "\n",
    "# True determines the number of samples with alcohol content less than the median"
   ]
  },
  {
   "cell_type": "markdown",
   "id": "6a51c9ab",
   "metadata": {},
   "source": [
    "# 18.Get the quality rating for the low alcohol and high alcohol groups."
   ]
  },
  {
   "cell_type": "code",
   "execution_count": 50,
   "id": "86eebb1d",
   "metadata": {},
   "outputs": [
    {
     "data": {
      "text/plain": [
       "5.475920679886686"
      ]
     },
     "execution_count": 50,
     "metadata": {},
     "output_type": "execute_result"
    }
   ],
   "source": [
    "low_alcohol['quality'].mean()"
   ]
  },
  {
   "cell_type": "code",
   "execution_count": 51,
   "id": "c86010da",
   "metadata": {},
   "outputs": [
    {
     "data": {
      "text/plain": [
       "6.146084337349397"
      ]
     },
     "execution_count": 51,
     "metadata": {},
     "output_type": "execute_result"
    }
   ],
   "source": [
    "high_alcohol['quality'].mean()"
   ]
  },
  {
   "cell_type": "code",
   "execution_count": 52,
   "id": "620a935a",
   "metadata": {},
   "outputs": [
    {
     "data": {
      "text/plain": [
       "Text(0, 0.5, 'Average Quality Rating')"
      ]
     },
     "execution_count": 52,
     "metadata": {},
     "output_type": "execute_result"
    },
    {
     "data": {
      "image/png": "[encoded data removed]",
      "text/plain": [
       "<Figure size 640x480 with 1 Axes>"
      ]
     },
     "metadata": {},
     "output_type": "display_data"
    }
   ],
   "source": [
    "a_median = result['alcohol'].median()\n",
    "\n",
    "a_low = result.query('alcohol < {}'.format(a_median))\n",
    "a_high = result.query('alcohol >= {}'.format(a_median))\n",
    "\n",
    "mean_qual_low = a_low['quality'].mean()\n",
    "mean_qual_high = a_high['quality'].mean()\n",
    "\n",
    "rangeis = [1, 2]\n",
    "heights = [mean_qual_low, mean_qual_high]\n",
    "labels = ['Low', 'High']\n",
    "plt.bar(rangeis, heights, tick_label=labels)\n",
    "\n",
    "plt.title('Average Quality Ratings by Alcohol Content')\n",
    "plt.xlabel('Alcohol Content')\n",
    "plt.ylabel('Average Quality Rating')"
   ]
  },
  {
   "cell_type": "code",
   "execution_count": 53,
   "id": "2726a129",
   "metadata": {},
   "outputs": [
    {
     "name": "stdout",
     "output_type": "stream",
     "text": [
      "alcohol_group\n",
      "low     5.503583\n",
      "high    6.184815\n",
      "Name: quality, dtype: float64\n"
     ]
    }
   ],
   "source": [
    "result['alcohol_group'] = pd.cut(result['alcohol'], bins=[8, result['alcohol'].mean(), 14], labels=['low', 'high'])\n",
    "\n",
    "# Group the data by alcohol_group and calculate the mean quality\n",
    "quality_by_alcohol_group = result.groupby('alcohol_group')['quality'].mean()\n",
    "\n",
    "# Print the mean quality for each alcohol group\n",
    "print(quality_by_alcohol_group)"
   ]
  },
  {
   "cell_type": "code",
   "execution_count": 54,
   "id": "1de7f9c7",
   "metadata": {},
   "outputs": [
    {
     "data": {
      "text/html": [
       "<div>\n",
       "<style scoped>\n",
       "    .dataframe tbody tr th:only-of-type {\n",
       "        vertical-align: middle;\n",
       "    }\n",
       "\n",
       "    .dataframe tbody tr th {\n",
       "        vertical-align: top;\n",
       "    }\n",
       "\n",
       "    .dataframe thead th {\n",
       "        text-align: right;\n",
       "    }\n",
       "</style>\n",
       "<table border=\"1\" class=\"dataframe\">\n",
       "  <thead>\n",
       "    <tr style=\"text-align: right;\">\n",
       "      <th></th>\n",
       "      <th>fixed_acidity</th>\n",
       "      <th>volatile_acidity</th>\n",
       "      <th>citric_acid</th>\n",
       "      <th>residual_sugar</th>\n",
       "      <th>chlorides</th>\n",
       "      <th>free_sulfur_dioxide</th>\n",
       "      <th>total_sulfur_dioxide</th>\n",
       "      <th>density</th>\n",
       "      <th>pH</th>\n",
       "      <th>sulphates</th>\n",
       "      <th>alcohol</th>\n",
       "      <th>quality</th>\n",
       "      <th>color</th>\n",
       "      <th>acidity_levels</th>\n",
       "      <th>alcohol_group</th>\n",
       "    </tr>\n",
       "  </thead>\n",
       "  <tbody>\n",
       "    <tr>\n",
       "      <th>0</th>\n",
       "      <td>7.0</td>\n",
       "      <td>0.270</td>\n",
       "      <td>0.36</td>\n",
       "      <td>20.7</td>\n",
       "      <td>0.045</td>\n",
       "      <td>45.0</td>\n",
       "      <td>170.0</td>\n",
       "      <td>1.00100</td>\n",
       "      <td>3.00</td>\n",
       "      <td>0.45</td>\n",
       "      <td>8.8</td>\n",
       "      <td>6</td>\n",
       "      <td>white</td>\n",
       "      <td>High</td>\n",
       "      <td>low</td>\n",
       "    </tr>\n",
       "    <tr>\n",
       "      <th>1</th>\n",
       "      <td>6.3</td>\n",
       "      <td>0.300</td>\n",
       "      <td>0.34</td>\n",
       "      <td>1.6</td>\n",
       "      <td>0.049</td>\n",
       "      <td>14.0</td>\n",
       "      <td>132.0</td>\n",
       "      <td>0.99400</td>\n",
       "      <td>3.30</td>\n",
       "      <td>0.49</td>\n",
       "      <td>9.5</td>\n",
       "      <td>6</td>\n",
       "      <td>white</td>\n",
       "      <td>Medium</td>\n",
       "      <td>low</td>\n",
       "    </tr>\n",
       "    <tr>\n",
       "      <th>2</th>\n",
       "      <td>8.1</td>\n",
       "      <td>0.280</td>\n",
       "      <td>0.40</td>\n",
       "      <td>6.9</td>\n",
       "      <td>0.050</td>\n",
       "      <td>30.0</td>\n",
       "      <td>97.0</td>\n",
       "      <td>0.99510</td>\n",
       "      <td>3.26</td>\n",
       "      <td>0.44</td>\n",
       "      <td>10.1</td>\n",
       "      <td>6</td>\n",
       "      <td>white</td>\n",
       "      <td>Medium</td>\n",
       "      <td>low</td>\n",
       "    </tr>\n",
       "    <tr>\n",
       "      <th>3</th>\n",
       "      <td>7.2</td>\n",
       "      <td>0.230</td>\n",
       "      <td>0.32</td>\n",
       "      <td>8.5</td>\n",
       "      <td>0.058</td>\n",
       "      <td>47.0</td>\n",
       "      <td>186.0</td>\n",
       "      <td>0.99560</td>\n",
       "      <td>3.19</td>\n",
       "      <td>0.40</td>\n",
       "      <td>9.9</td>\n",
       "      <td>6</td>\n",
       "      <td>white</td>\n",
       "      <td>Moderately_High</td>\n",
       "      <td>low</td>\n",
       "    </tr>\n",
       "    <tr>\n",
       "      <th>4</th>\n",
       "      <td>7.2</td>\n",
       "      <td>0.230</td>\n",
       "      <td>0.32</td>\n",
       "      <td>8.5</td>\n",
       "      <td>0.058</td>\n",
       "      <td>47.0</td>\n",
       "      <td>186.0</td>\n",
       "      <td>0.99560</td>\n",
       "      <td>3.19</td>\n",
       "      <td>0.40</td>\n",
       "      <td>9.9</td>\n",
       "      <td>6</td>\n",
       "      <td>white</td>\n",
       "      <td>Moderately_High</td>\n",
       "      <td>low</td>\n",
       "    </tr>\n",
       "    <tr>\n",
       "      <th>...</th>\n",
       "      <td>...</td>\n",
       "      <td>...</td>\n",
       "      <td>...</td>\n",
       "      <td>...</td>\n",
       "      <td>...</td>\n",
       "      <td>...</td>\n",
       "      <td>...</td>\n",
       "      <td>...</td>\n",
       "      <td>...</td>\n",
       "      <td>...</td>\n",
       "      <td>...</td>\n",
       "      <td>...</td>\n",
       "      <td>...</td>\n",
       "      <td>...</td>\n",
       "      <td>...</td>\n",
       "    </tr>\n",
       "    <tr>\n",
       "      <th>6491</th>\n",
       "      <td>6.8</td>\n",
       "      <td>0.620</td>\n",
       "      <td>0.08</td>\n",
       "      <td>1.9</td>\n",
       "      <td>0.068</td>\n",
       "      <td>28.0</td>\n",
       "      <td>38.0</td>\n",
       "      <td>0.99651</td>\n",
       "      <td>3.42</td>\n",
       "      <td>0.82</td>\n",
       "      <td>9.5</td>\n",
       "      <td>6</td>\n",
       "      <td>red</td>\n",
       "      <td>Low</td>\n",
       "      <td>low</td>\n",
       "    </tr>\n",
       "    <tr>\n",
       "      <th>6492</th>\n",
       "      <td>6.2</td>\n",
       "      <td>0.600</td>\n",
       "      <td>0.08</td>\n",
       "      <td>2.0</td>\n",
       "      <td>0.090</td>\n",
       "      <td>32.0</td>\n",
       "      <td>44.0</td>\n",
       "      <td>0.99490</td>\n",
       "      <td>3.45</td>\n",
       "      <td>0.58</td>\n",
       "      <td>10.5</td>\n",
       "      <td>5</td>\n",
       "      <td>red</td>\n",
       "      <td>Low</td>\n",
       "      <td>high</td>\n",
       "    </tr>\n",
       "    <tr>\n",
       "      <th>6493</th>\n",
       "      <td>5.9</td>\n",
       "      <td>0.550</td>\n",
       "      <td>0.10</td>\n",
       "      <td>2.2</td>\n",
       "      <td>0.062</td>\n",
       "      <td>39.0</td>\n",
       "      <td>51.0</td>\n",
       "      <td>0.99512</td>\n",
       "      <td>3.52</td>\n",
       "      <td>0.76</td>\n",
       "      <td>11.2</td>\n",
       "      <td>6</td>\n",
       "      <td>red</td>\n",
       "      <td>Low</td>\n",
       "      <td>high</td>\n",
       "    </tr>\n",
       "    <tr>\n",
       "      <th>6494</th>\n",
       "      <td>6.3</td>\n",
       "      <td>0.510</td>\n",
       "      <td>0.13</td>\n",
       "      <td>2.3</td>\n",
       "      <td>0.076</td>\n",
       "      <td>29.0</td>\n",
       "      <td>40.0</td>\n",
       "      <td>0.99574</td>\n",
       "      <td>3.42</td>\n",
       "      <td>0.75</td>\n",
       "      <td>11.0</td>\n",
       "      <td>6</td>\n",
       "      <td>red</td>\n",
       "      <td>Low</td>\n",
       "      <td>high</td>\n",
       "    </tr>\n",
       "    <tr>\n",
       "      <th>6495</th>\n",
       "      <td>5.9</td>\n",
       "      <td>0.645</td>\n",
       "      <td>0.12</td>\n",
       "      <td>2.0</td>\n",
       "      <td>0.075</td>\n",
       "      <td>32.0</td>\n",
       "      <td>44.0</td>\n",
       "      <td>0.99547</td>\n",
       "      <td>3.57</td>\n",
       "      <td>0.71</td>\n",
       "      <td>10.2</td>\n",
       "      <td>5</td>\n",
       "      <td>red</td>\n",
       "      <td>Low</td>\n",
       "      <td>low</td>\n",
       "    </tr>\n",
       "  </tbody>\n",
       "</table>\n",
       "<p>6496 rows × 15 columns</p>\n",
       "</div>"
      ],
      "text/plain": [
       "      fixed_acidity  volatile_acidity  citric_acid  residual_sugar  chlorides  \\\n",
       "0               7.0             0.270         0.36            20.7      0.045   \n",
       "1               6.3             0.300         0.34             1.6      0.049   \n",
       "2               8.1             0.280         0.40             6.9      0.050   \n",
       "3               7.2             0.230         0.32             8.5      0.058   \n",
       "4               7.2             0.230         0.32             8.5      0.058   \n",
       "...             ...               ...          ...             ...        ...   \n",
       "6491            6.8             0.620         0.08             1.9      0.068   \n",
       "6492            6.2             0.600         0.08             2.0      0.090   \n",
       "6493            5.9             0.550         0.10             2.2      0.062   \n",
       "6494            6.3             0.510         0.13             2.3      0.076   \n",
       "6495            5.9             0.645         0.12             2.0      0.075   \n",
       "\n",
       "      free_sulfur_dioxide  total_sulfur_dioxide  density    pH  sulphates  \\\n",
       "0                    45.0                 170.0  1.00100  3.00       0.45   \n",
       "1                    14.0                 132.0  0.99400  3.30       0.49   \n",
       "2                    30.0                  97.0  0.99510  3.26       0.44   \n",
       "3                    47.0                 186.0  0.99560  3.19       0.40   \n",
       "4                    47.0                 186.0  0.99560  3.19       0.40   \n",
       "...                   ...                   ...      ...   ...        ...   \n",
       "6491                 28.0                  38.0  0.99651  3.42       0.82   \n",
       "6492                 32.0                  44.0  0.99490  3.45       0.58   \n",
       "6493                 39.0                  51.0  0.99512  3.52       0.76   \n",
       "6494                 29.0                  40.0  0.99574  3.42       0.75   \n",
       "6495                 32.0                  44.0  0.99547  3.57       0.71   \n",
       "\n",
       "      alcohol  quality  color   acidity_levels alcohol_group  \n",
       "0         8.8        6  white             High           low  \n",
       "1         9.5        6  white           Medium           low  \n",
       "2        10.1        6  white           Medium           low  \n",
       "3         9.9        6  white  Moderately_High           low  \n",
       "4         9.9        6  white  Moderately_High           low  \n",
       "...       ...      ...    ...              ...           ...  \n",
       "6491      9.5        6    red              Low           low  \n",
       "6492     10.5        5    red              Low          high  \n",
       "6493     11.2        6    red              Low          high  \n",
       "6494     11.0        6    red              Low          high  \n",
       "6495     10.2        5    red              Low           low  \n",
       "\n",
       "[6496 rows x 15 columns]"
      ]
     },
     "execution_count": 54,
     "metadata": {},
     "output_type": "execute_result"
    }
   ],
   "source": [
    "result.head(-1)"
   ]
  },
  {
   "cell_type": "markdown",
   "id": "eda27523",
   "metadata": {},
   "source": [
    "# 19.Do sweeter wines get more ratings?"
   ]
  },
  {
   "cell_type": "code",
   "execution_count": 55,
   "id": "a223e868",
   "metadata": {},
   "outputs": [],
   "source": [
    "s_median = result['residual_sugar'].median()\n",
    "s_low = result.query('residual_sugar < {}'.format(s_median))\n",
    "s_high = result.query('residual_sugar >= {}'.format(s_median))\n",
    "\n",
    "mean_qual_low = s_low['quality'].mean()\n",
    "mean_qual_high = s_high['quality'].mean()"
   ]
  },
  {
   "cell_type": "code",
   "execution_count": 56,
   "id": "8eed6fe6",
   "metadata": {},
   "outputs": [
    {
     "name": "stdout",
     "output_type": "stream",
     "text": [
      "Quality Low :  5.808800743724822\n",
      "Quality High :  5.82782874617737\n"
     ]
    }
   ],
   "source": [
    "print('Quality Low : ', mean_qual_low)\n",
    "print('Quality High : ', mean_qual_high)"
   ]
  },
  {
   "cell_type": "code",
   "execution_count": 57,
   "id": "ab9c2ec4",
   "metadata": {},
   "outputs": [
    {
     "data": {
      "text/plain": [
       "Text(0, 0.5, 'Average Quality Rating')"
      ]
     },
     "execution_count": 57,
     "metadata": {},
     "output_type": "execute_result"
    },
    {
     "data": {
      "image/png": "[encoded data removed]",
      "text/plain": [
       "<Figure size 640x480 with 1 Axes>"
      ]
     },
     "metadata": {},
     "output_type": "display_data"
    }
   ],
   "source": [
    "rangeis = [1, 2]\n",
    "heights = [mean_qual_low, mean_qual_high]\n",
    "labels = ['Low', 'High']\n",
    "plt.bar(rangeis, heights, tick_label=labels)\n",
    "\n",
    "plt.title('Average Quality Ratings by Sugar Content')\n",
    "plt.xlabel('Sugar Content')\n",
    "plt.ylabel('Average Quality Rating')"
   ]
  },
  {
   "cell_type": "markdown",
   "id": "71b431b7",
   "metadata": {},
   "source": [
    "# 20.Get the number of counts based on ratings and color of wine."
   ]
  },
  {
   "cell_type": "code",
   "execution_count": 58,
   "id": "71bce00e",
   "metadata": {},
   "outputs": [
    {
     "data": {
      "text/plain": [
       "color  quality\n",
       "red    3            10\n",
       "       4            53\n",
       "       5           681\n",
       "       6           638\n",
       "       7           199\n",
       "       8            18\n",
       "white  3            20\n",
       "       4           163\n",
       "       5          1457\n",
       "       6          2198\n",
       "       7           880\n",
       "       8           175\n",
       "       9             5\n",
       "dtype: int64"
      ]
     },
     "execution_count": 58,
     "metadata": {},
     "output_type": "execute_result"
    }
   ],
   "source": [
    "counts = result.groupby(['color', 'quality']).size()\n",
    "counts"
   ]
  },
  {
   "cell_type": "markdown",
   "id": "3b377826",
   "metadata": {},
   "source": [
    "# 21.Is the density of red wine and white wine similar?"
   ]
  },
  {
   "cell_type": "code",
   "execution_count": 59,
   "id": "251f6513",
   "metadata": {},
   "outputs": [
    {
     "name": "stdout",
     "output_type": "stream",
     "text": [
      "t-statistic:  34.200222895156706\n",
      "p-value:  7.319604639974869e-236\n"
     ]
    }
   ],
   "source": [
    "red_density = result[result['color'] == 'red']['density']\n",
    "white_density = result[result['color'] == 'white']['density']\n",
    "\n",
    "# Perform a t-test to compare the means of the two groups\n",
    "t, p = stats.ttest_ind(red_density, white_density)\n",
    "\n",
    "# Print the t-statistic and p-value\n",
    "print(\"t-statistic: \", t)\n",
    "print(\"p-value: \", p)\n"
   ]
  },
  {
   "cell_type": "code",
   "execution_count": 60,
   "id": "502a719e",
   "metadata": {},
   "outputs": [
    {
     "name": "stdout",
     "output_type": "stream",
     "text": [
      "Accepted null hypothesis. There is a significant difference between the density of red and white wine\n"
     ]
    }
   ],
   "source": [
    "if p < 0.05:\n",
    "    print('Accepted null hypothesis. There is a significant difference between the density of red and white wine')\n",
    "else:\n",
    "    print('Rejected null hypothesis. There is not significant difference between the density of red and white wine')"
   ]
  },
  {
   "cell_type": "markdown",
   "id": "813237aa",
   "metadata": {},
   "source": [
    "# 22.Is the confidence interval for the differences of the proportion of white wine with rating 3 and the proportion of red wine with rating 3."
   ]
  },
  {
   "cell_type": "code",
   "execution_count": 61,
   "id": "bf6a6f77",
   "metadata": {},
   "outputs": [],
   "source": [
    "from statsmodels.stats.proportion import proportions_ztest, proportion_confint"
   ]
  },
  {
   "cell_type": "code",
   "execution_count": 62,
   "id": "dc85891d",
   "metadata": {},
   "outputs": [],
   "source": [
    "white_count = result[(result['color'] == 'white') & (result['quality'] == 3)].shape[0]\n",
    "white_total = result[result['color'] == 'white'].shape[0]\n",
    "\n",
    "# Get the number of red wine with rating 3 and the total number of red wine\n",
    "red_count = result[(result['color'] == 'red') & (result['quality'] == 3)].shape[0]\n",
    "red_total = result[result['color'] == 'red'].shape[0]\n"
   ]
  },
  {
   "cell_type": "code",
   "execution_count": 63,
   "id": "c9327b84",
   "metadata": {},
   "outputs": [],
   "source": [
    "count = np.array([white_count, red_count])\n",
    "nobs = np.array([white_total, red_total])\n",
    "stat, pval = proportions_ztest(count, nobs)\n",
    "conf_int = proportion_confint(count, nobs, alpha=0.05, method='normal')\n"
   ]
  },
  {
   "cell_type": "code",
   "execution_count": 64,
   "id": "eebfc654",
   "metadata": {},
   "outputs": [
    {
     "name": "stdout",
     "output_type": "stream",
     "text": [
      "p-value:  0.2662979112922068\n",
      "z-statistic:  -1.111628504974206\n",
      "Confidence interval:  (array([0.0022974 , 0.00238991]), array([0.00586919, 0.01011791]))\n"
     ]
    }
   ],
   "source": [
    "# Print the p-value, z-statistic and the confidence interval\n",
    "print(\"p-value: \", pval)\n",
    "print(\"z-statistic: \", stat)\n",
    "print(\"Confidence interval: \", conf_int)"
   ]
  },
  {
   "cell_type": "code",
   "execution_count": 65,
   "id": "357ff494",
   "metadata": {},
   "outputs": [
    {
     "name": "stdout",
     "output_type": "stream",
     "text": [
      "Rejected null hypothesis. There is no confidence interval for the differences of the proportion of red and white wine\n"
     ]
    }
   ],
   "source": [
    "if pval < 0.05:\n",
    "    print('Accepted null hypothesis. There is a confidence interval for the differences of the proportion of red and white wine')\n",
    "else:\n",
    "    print('Rejected null hypothesis. There is no confidence interval for the differences of the proportion of red and white wine')"
   ]
  },
  {
   "cell_type": "code",
   "execution_count": null,
   "id": "fc9eb706",
   "metadata": {},
   "outputs": [],
   "source": []
  }
 ],
 "metadata": {
  "kernelspec": {
   "display_name": "Python 3 (ipykernel)",
   "language": "python",
   "name": "python3"
  },
  "language_info": {
   "codemirror_mode": {
    "name": "ipython",
    "version": 3
   },
   "file_extension": ".py",
   "mimetype": "text/x-python",
   "name": "python",
   "nbconvert_exporter": "python",
   "pygments_lexer": "ipython3",
   "version": "3.9.15"
  }
 },
 "nbformat": 4,
 "nbformat_minor": 5
}
